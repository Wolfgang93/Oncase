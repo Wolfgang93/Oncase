{
 "cells": [
  {
   "attachments": {},
   "cell_type": "markdown",
   "metadata": {},
   "source": [
    "# Desafio 2.3."
   ]
  },
  {
   "attachments": {},
   "cell_type": "markdown",
   "metadata": {},
   "source": [
    "Construa um regressor e identifique quais variáveis exercem maior impacto sobre o “target” e informe o porquê interpretando os resultados obtidos. \n",
    "\n",
    "métricas: RMSE, R2 e cor(target_observado, target_predito);\n",
    "\n",
    "dados: regression_data.zip."
   ]
  },
  {
   "attachments": {},
   "cell_type": "markdown",
   "metadata": {},
   "source": [
    "#### Bibliotecas que vamos precisar"
   ]
  },
  {
   "cell_type": "code",
   "execution_count": 1,
   "metadata": {},
   "outputs": [],
   "source": [
    "import pandas as pd\n",
    "import matplotlib.pyplot as plt"
   ]
  },
  {
   "cell_type": "code",
   "execution_count": 2,
   "metadata": {},
   "outputs": [],
   "source": [
    "db_train = pd.read_csv('regression_train.csv')"
   ]
  },
  {
   "cell_type": "code",
   "execution_count": 3,
   "metadata": {},
   "outputs": [
    {
     "data": {
      "text/html": [
       "<div>\n",
       "<style scoped>\n",
       "    .dataframe tbody tr th:only-of-type {\n",
       "        vertical-align: middle;\n",
       "    }\n",
       "\n",
       "    .dataframe tbody tr th {\n",
       "        vertical-align: top;\n",
       "    }\n",
       "\n",
       "    .dataframe thead th {\n",
       "        text-align: right;\n",
       "    }\n",
       "</style>\n",
       "<table border=\"1\" class=\"dataframe\">\n",
       "  <thead>\n",
       "    <tr style=\"text-align: right;\">\n",
       "      <th></th>\n",
       "      <th>target</th>\n",
       "      <th>X1</th>\n",
       "      <th>X2</th>\n",
       "      <th>X3</th>\n",
       "      <th>X4</th>\n",
       "      <th>X5</th>\n",
       "      <th>X6</th>\n",
       "      <th>X7</th>\n",
       "    </tr>\n",
       "  </thead>\n",
       "  <tbody>\n",
       "    <tr>\n",
       "      <th>983</th>\n",
       "      <td>NaN</td>\n",
       "      <td>2.312178</td>\n",
       "      <td>-5.058973</td>\n",
       "      <td>47.462857</td>\n",
       "      <td>0.035284</td>\n",
       "      <td>-66.878038</td>\n",
       "      <td>8</td>\n",
       "      <td>-11.888587</td>\n",
       "    </tr>\n",
       "    <tr>\n",
       "      <th>979</th>\n",
       "      <td>NaN</td>\n",
       "      <td>1.674865</td>\n",
       "      <td>-5.671871</td>\n",
       "      <td>57.044752</td>\n",
       "      <td>4.189625</td>\n",
       "      <td>-59.293016</td>\n",
       "      <td>5</td>\n",
       "      <td>-13.328897</td>\n",
       "    </tr>\n",
       "    <tr>\n",
       "      <th>708</th>\n",
       "      <td>NaN</td>\n",
       "      <td>0.034340</td>\n",
       "      <td>-2.896909</td>\n",
       "      <td>53.293120</td>\n",
       "      <td>11.303295</td>\n",
       "      <td>-64.242989</td>\n",
       "      <td>8</td>\n",
       "      <td>-6.807737</td>\n",
       "    </tr>\n",
       "  </tbody>\n",
       "</table>\n",
       "</div>"
      ],
      "text/plain": [
       "     target        X1        X2         X3         X4         X5  X6  \\\n",
       "983     NaN  2.312178 -5.058973  47.462857   0.035284 -66.878038   8   \n",
       "979     NaN  1.674865 -5.671871  57.044752   4.189625 -59.293016   5   \n",
       "708     NaN  0.034340 -2.896909  53.293120  11.303295 -64.242989   8   \n",
       "\n",
       "            X7  \n",
       "983 -11.888587  \n",
       "979 -13.328897  \n",
       "708  -6.807737  "
      ]
     },
     "execution_count": 3,
     "metadata": {},
     "output_type": "execute_result"
    }
   ],
   "source": [
    "db_train.sample(3)"
   ]
  },
  {
   "cell_type": "code",
   "execution_count": 4,
   "metadata": {},
   "outputs": [
    {
     "name": "stdout",
     "output_type": "stream",
     "text": [
      "<class 'pandas.core.frame.DataFrame'>\n",
      "RangeIndex: 1042 entries, 0 to 1041\n",
      "Data columns (total 8 columns):\n",
      " #   Column  Non-Null Count  Dtype  \n",
      "---  ------  --------------  -----  \n",
      " 0   target  715 non-null    float64\n",
      " 1   X1      1042 non-null   float64\n",
      " 2   X2      1031 non-null   float64\n",
      " 3   X3      1042 non-null   float64\n",
      " 4   X4      1042 non-null   float64\n",
      " 5   X5      1042 non-null   float64\n",
      " 6   X6      1042 non-null   int64  \n",
      " 7   X7      1042 non-null   float64\n",
      "dtypes: float64(7), int64(1)\n",
      "memory usage: 65.2 KB\n"
     ]
    }
   ],
   "source": [
    "db_train.info()"
   ]
  },
  {
   "cell_type": "code",
   "execution_count": 5,
   "metadata": {},
   "outputs": [
    {
     "data": {
      "text/plain": [
       "target    327\n",
       "X1          0\n",
       "X2         11\n",
       "X3          0\n",
       "X4          0\n",
       "X5          0\n",
       "X6          0\n",
       "X7          0\n",
       "dtype: int64"
      ]
     },
     "execution_count": 5,
     "metadata": {},
     "output_type": "execute_result"
    }
   ],
   "source": [
    "db_train.isna().sum()"
   ]
  },
  {
   "cell_type": "code",
   "execution_count": 6,
   "metadata": {},
   "outputs": [
    {
     "name": "stdout",
     "output_type": "stream",
     "text": [
      "<class 'pandas.core.frame.DataFrame'>\n",
      "Int64Index: 1042 entries, 0 to 1041\n",
      "Data columns (total 8 columns):\n",
      " #   Column  Non-Null Count  Dtype  \n",
      "---  ------  --------------  -----  \n",
      " 0   target  715 non-null    float64\n",
      " 1   X1      1042 non-null   float64\n",
      " 2   X2      1031 non-null   float64\n",
      " 3   X3      1042 non-null   float64\n",
      " 4   X4      1042 non-null   float64\n",
      " 5   X5      1042 non-null   float64\n",
      " 6   X6      1042 non-null   int64  \n",
      " 7   X7      1042 non-null   float64\n",
      "dtypes: float64(7), int64(1)\n",
      "memory usage: 73.3 KB\n"
     ]
    }
   ],
   "source": [
    "db_train.drop_duplicates().info()"
   ]
  },
  {
   "attachments": {},
   "cell_type": "markdown",
   "metadata": {},
   "source": [
    "#### Tem muitos nulls na variavel target(y), perto de 75%<br>\n",
    "Podemos obtar por duas estrategias:<br>\n",
    "1) Eliminamos todos os nulls\n",
    "2) Preenchemos os nulls com o fill, dando a eles um valor proximo a outro registrado, ou dando a eles o valor promedio"
   ]
  },
  {
   "attachments": {},
   "cell_type": "markdown",
   "metadata": {},
   "source": [
    "#### Por praticidade, vamos sempre começar pelo mais simples, neste caso, sería eliminar os nulls"
   ]
  },
  {
   "cell_type": "code",
   "execution_count": 7,
   "metadata": {},
   "outputs": [],
   "source": [
    "db_train.dropna(how='any',inplace=True)"
   ]
  },
  {
   "cell_type": "code",
   "execution_count": 8,
   "metadata": {},
   "outputs": [
    {
     "data": {
      "text/html": [
       "<div>\n",
       "<style scoped>\n",
       "    .dataframe tbody tr th:only-of-type {\n",
       "        vertical-align: middle;\n",
       "    }\n",
       "\n",
       "    .dataframe tbody tr th {\n",
       "        vertical-align: top;\n",
       "    }\n",
       "\n",
       "    .dataframe thead th {\n",
       "        text-align: right;\n",
       "    }\n",
       "</style>\n",
       "<table border=\"1\" class=\"dataframe\">\n",
       "  <thead>\n",
       "    <tr style=\"text-align: right;\">\n",
       "      <th></th>\n",
       "      <th>target</th>\n",
       "      <th>X1</th>\n",
       "      <th>X2</th>\n",
       "      <th>X3</th>\n",
       "      <th>X4</th>\n",
       "      <th>X5</th>\n",
       "      <th>X6</th>\n",
       "      <th>X7</th>\n",
       "    </tr>\n",
       "  </thead>\n",
       "  <tbody>\n",
       "    <tr>\n",
       "      <th>count</th>\n",
       "      <td>715.000000</td>\n",
       "      <td>715.000000</td>\n",
       "      <td>715.000000</td>\n",
       "      <td>715.000000</td>\n",
       "      <td>715.000000</td>\n",
       "      <td>715.000000</td>\n",
       "      <td>715.000000</td>\n",
       "      <td>715.000000</td>\n",
       "    </tr>\n",
       "    <tr>\n",
       "      <th>mean</th>\n",
       "      <td>1349.940229</td>\n",
       "      <td>3.367040</td>\n",
       "      <td>1.541895</td>\n",
       "      <td>50.089566</td>\n",
       "      <td>2.330196</td>\n",
       "      <td>-64.986930</td>\n",
       "      <td>4.576224</td>\n",
       "      <td>3.623453</td>\n",
       "    </tr>\n",
       "    <tr>\n",
       "      <th>std</th>\n",
       "      <td>1593.201095</td>\n",
       "      <td>2.830287</td>\n",
       "      <td>3.236113</td>\n",
       "      <td>4.067153</td>\n",
       "      <td>2.498788</td>\n",
       "      <td>9.524299</td>\n",
       "      <td>3.237256</td>\n",
       "      <td>7.604867</td>\n",
       "    </tr>\n",
       "    <tr>\n",
       "      <th>min</th>\n",
       "      <td>0.062551</td>\n",
       "      <td>-4.079909</td>\n",
       "      <td>-3.786653</td>\n",
       "      <td>38.035456</td>\n",
       "      <td>0.009815</td>\n",
       "      <td>-121.450423</td>\n",
       "      <td>0.000000</td>\n",
       "      <td>-8.898633</td>\n",
       "    </tr>\n",
       "    <tr>\n",
       "      <th>25%</th>\n",
       "      <td>230.632308</td>\n",
       "      <td>1.510589</td>\n",
       "      <td>-0.973832</td>\n",
       "      <td>47.423904</td>\n",
       "      <td>0.597640</td>\n",
       "      <td>-69.085396</td>\n",
       "      <td>0.000000</td>\n",
       "      <td>-2.288504</td>\n",
       "    </tr>\n",
       "    <tr>\n",
       "      <th>50%</th>\n",
       "      <td>808.374368</td>\n",
       "      <td>3.354627</td>\n",
       "      <td>1.056399</td>\n",
       "      <td>50.137764</td>\n",
       "      <td>1.526100</td>\n",
       "      <td>-65.078252</td>\n",
       "      <td>5.000000</td>\n",
       "      <td>2.482539</td>\n",
       "    </tr>\n",
       "    <tr>\n",
       "      <th>75%</th>\n",
       "      <td>1849.754221</td>\n",
       "      <td>5.127394</td>\n",
       "      <td>3.448100</td>\n",
       "      <td>52.871490</td>\n",
       "      <td>3.143906</td>\n",
       "      <td>-61.117380</td>\n",
       "      <td>8.000000</td>\n",
       "      <td>8.103036</td>\n",
       "    </tr>\n",
       "    <tr>\n",
       "      <th>max</th>\n",
       "      <td>10382.469480</td>\n",
       "      <td>12.380693</td>\n",
       "      <td>12.926106</td>\n",
       "      <td>62.972372</td>\n",
       "      <td>18.813009</td>\n",
       "      <td>53.919202</td>\n",
       "      <td>8.000000</td>\n",
       "      <td>30.376348</td>\n",
       "    </tr>\n",
       "  </tbody>\n",
       "</table>\n",
       "</div>"
      ],
      "text/plain": [
       "             target          X1          X2          X3          X4  \\\n",
       "count    715.000000  715.000000  715.000000  715.000000  715.000000   \n",
       "mean    1349.940229    3.367040    1.541895   50.089566    2.330196   \n",
       "std     1593.201095    2.830287    3.236113    4.067153    2.498788   \n",
       "min        0.062551   -4.079909   -3.786653   38.035456    0.009815   \n",
       "25%      230.632308    1.510589   -0.973832   47.423904    0.597640   \n",
       "50%      808.374368    3.354627    1.056399   50.137764    1.526100   \n",
       "75%     1849.754221    5.127394    3.448100   52.871490    3.143906   \n",
       "max    10382.469480   12.380693   12.926106   62.972372   18.813009   \n",
       "\n",
       "               X5          X6          X7  \n",
       "count  715.000000  715.000000  715.000000  \n",
       "mean   -64.986930    4.576224    3.623453  \n",
       "std      9.524299    3.237256    7.604867  \n",
       "min   -121.450423    0.000000   -8.898633  \n",
       "25%    -69.085396    0.000000   -2.288504  \n",
       "50%    -65.078252    5.000000    2.482539  \n",
       "75%    -61.117380    8.000000    8.103036  \n",
       "max     53.919202    8.000000   30.376348  "
      ]
     },
     "execution_count": 8,
     "metadata": {},
     "output_type": "execute_result"
    }
   ],
   "source": [
    "db_train.describe()"
   ]
  },
  {
   "cell_type": "code",
   "execution_count": 9,
   "metadata": {},
   "outputs": [
    {
     "data": {
      "text/plain": [
       "8    254\n",
       "5    248\n",
       "0    213\n",
       "Name: X6, dtype: int64"
      ]
     },
     "execution_count": 9,
     "metadata": {},
     "output_type": "execute_result"
    }
   ],
   "source": [
    "db_train.X6.value_counts()"
   ]
  },
  {
   "cell_type": "code",
   "execution_count": 10,
   "metadata": {},
   "outputs": [
    {
     "data": {
      "text/html": [
       "<div>\n",
       "<style scoped>\n",
       "    .dataframe tbody tr th:only-of-type {\n",
       "        vertical-align: middle;\n",
       "    }\n",
       "\n",
       "    .dataframe tbody tr th {\n",
       "        vertical-align: top;\n",
       "    }\n",
       "\n",
       "    .dataframe thead th {\n",
       "        text-align: right;\n",
       "    }\n",
       "</style>\n",
       "<table border=\"1\" class=\"dataframe\">\n",
       "  <thead>\n",
       "    <tr style=\"text-align: right;\">\n",
       "      <th></th>\n",
       "      <th>target</th>\n",
       "      <th>X1</th>\n",
       "      <th>X2</th>\n",
       "      <th>X3</th>\n",
       "      <th>X4</th>\n",
       "      <th>X5</th>\n",
       "      <th>X6</th>\n",
       "      <th>X7</th>\n",
       "    </tr>\n",
       "  </thead>\n",
       "  <tbody>\n",
       "    <tr>\n",
       "      <th>target</th>\n",
       "      <td>1.000000</td>\n",
       "      <td>0.514485</td>\n",
       "      <td>0.938318</td>\n",
       "      <td>0.057441</td>\n",
       "      <td>-0.011001</td>\n",
       "      <td>-0.023407</td>\n",
       "      <td>0.040508</td>\n",
       "      <td>0.938318</td>\n",
       "    </tr>\n",
       "    <tr>\n",
       "      <th>X1</th>\n",
       "      <td>0.514485</td>\n",
       "      <td>1.000000</td>\n",
       "      <td>0.391877</td>\n",
       "      <td>-0.043520</td>\n",
       "      <td>0.004531</td>\n",
       "      <td>0.009388</td>\n",
       "      <td>0.034558</td>\n",
       "      <td>0.391877</td>\n",
       "    </tr>\n",
       "    <tr>\n",
       "      <th>X2</th>\n",
       "      <td>0.938318</td>\n",
       "      <td>0.391877</td>\n",
       "      <td>1.000000</td>\n",
       "      <td>0.030203</td>\n",
       "      <td>0.091770</td>\n",
       "      <td>-0.055510</td>\n",
       "      <td>0.045088</td>\n",
       "      <td>1.000000</td>\n",
       "    </tr>\n",
       "    <tr>\n",
       "      <th>X3</th>\n",
       "      <td>0.057441</td>\n",
       "      <td>-0.043520</td>\n",
       "      <td>0.030203</td>\n",
       "      <td>1.000000</td>\n",
       "      <td>0.095165</td>\n",
       "      <td>0.010467</td>\n",
       "      <td>-0.004720</td>\n",
       "      <td>0.030203</td>\n",
       "    </tr>\n",
       "    <tr>\n",
       "      <th>X4</th>\n",
       "      <td>-0.011001</td>\n",
       "      <td>0.004531</td>\n",
       "      <td>0.091770</td>\n",
       "      <td>0.095165</td>\n",
       "      <td>1.000000</td>\n",
       "      <td>-0.057918</td>\n",
       "      <td>-0.021941</td>\n",
       "      <td>0.091770</td>\n",
       "    </tr>\n",
       "    <tr>\n",
       "      <th>X5</th>\n",
       "      <td>-0.023407</td>\n",
       "      <td>0.009388</td>\n",
       "      <td>-0.055510</td>\n",
       "      <td>0.010467</td>\n",
       "      <td>-0.057918</td>\n",
       "      <td>1.000000</td>\n",
       "      <td>-0.050802</td>\n",
       "      <td>-0.055510</td>\n",
       "    </tr>\n",
       "    <tr>\n",
       "      <th>X6</th>\n",
       "      <td>0.040508</td>\n",
       "      <td>0.034558</td>\n",
       "      <td>0.045088</td>\n",
       "      <td>-0.004720</td>\n",
       "      <td>-0.021941</td>\n",
       "      <td>-0.050802</td>\n",
       "      <td>1.000000</td>\n",
       "      <td>0.045088</td>\n",
       "    </tr>\n",
       "    <tr>\n",
       "      <th>X7</th>\n",
       "      <td>0.938318</td>\n",
       "      <td>0.391877</td>\n",
       "      <td>1.000000</td>\n",
       "      <td>0.030203</td>\n",
       "      <td>0.091770</td>\n",
       "      <td>-0.055510</td>\n",
       "      <td>0.045088</td>\n",
       "      <td>1.000000</td>\n",
       "    </tr>\n",
       "  </tbody>\n",
       "</table>\n",
       "</div>"
      ],
      "text/plain": [
       "          target        X1        X2        X3        X4        X5        X6  \\\n",
       "target  1.000000  0.514485  0.938318  0.057441 -0.011001 -0.023407  0.040508   \n",
       "X1      0.514485  1.000000  0.391877 -0.043520  0.004531  0.009388  0.034558   \n",
       "X2      0.938318  0.391877  1.000000  0.030203  0.091770 -0.055510  0.045088   \n",
       "X3      0.057441 -0.043520  0.030203  1.000000  0.095165  0.010467 -0.004720   \n",
       "X4     -0.011001  0.004531  0.091770  0.095165  1.000000 -0.057918 -0.021941   \n",
       "X5     -0.023407  0.009388 -0.055510  0.010467 -0.057918  1.000000 -0.050802   \n",
       "X6      0.040508  0.034558  0.045088 -0.004720 -0.021941 -0.050802  1.000000   \n",
       "X7      0.938318  0.391877  1.000000  0.030203  0.091770 -0.055510  0.045088   \n",
       "\n",
       "              X7  \n",
       "target  0.938318  \n",
       "X1      0.391877  \n",
       "X2      1.000000  \n",
       "X3      0.030203  \n",
       "X4      0.091770  \n",
       "X5     -0.055510  \n",
       "X6      0.045088  \n",
       "X7      1.000000  "
      ]
     },
     "execution_count": 10,
     "metadata": {},
     "output_type": "execute_result"
    }
   ],
   "source": [
    "# Vamos a eliminar as features, que tenham um valor de correlação muito pequeno como X4 e X5, \n",
    "# apesar de X3 e X6 tambem serem muito pequenos, vamos mantelos para não eliminar tantas variaveis\n",
    "db_train.corr()\n",
    "\n",
    "# Podemos Já observar que X2 e X7 tem altos indices de correlação."
   ]
  },
  {
   "cell_type": "code",
   "execution_count": 11,
   "metadata": {},
   "outputs": [
    {
     "data": {
      "image/png": "[encoded data removed]",
      "text/plain": [
       "<Figure size 1440x720 with 9 Axes>"
      ]
     },
     "metadata": {
      "needs_background": "light"
     },
     "output_type": "display_data"
    }
   ],
   "source": [
    "db_train.hist(figsize=(20,10));"
   ]
  },
  {
   "cell_type": "code",
   "execution_count": 12,
   "metadata": {},
   "outputs": [],
   "source": [
    "db_test = pd.read_csv('regression_test.csv')\n",
    "db_test.dropna(how='all',inplace=True)"
   ]
  },
  {
   "attachments": {},
   "cell_type": "markdown",
   "metadata": {},
   "source": [
    "### Como a database não tem muitos registros, vamos a utilizar um modelo simples, sem muitos parametros.<br>"
   ]
  },
  {
   "attachments": {},
   "cell_type": "markdown",
   "metadata": {},
   "source": [
    "Standarização"
   ]
  },
  {
   "attachments": {},
   "cell_type": "markdown",
   "metadata": {},
   "source": [
    "Ja que as curvas não respeitão um padrão de normalização, vamos a utilizar um standarscaler, ja que aparentemente a falta de uma curva normal é mais significativa do que a \n",
    "quantidade de outliers"
   ]
  },
  {
   "attachments": {},
   "cell_type": "markdown",
   "metadata": {},
   "source": [
    "Caso fosse o contrario, e o numero de outliers fosse mais significativo, utilizariamos um robustscaler ou um minmaxscaler"
   ]
  },
  {
   "cell_type": "code",
   "execution_count": 13,
   "metadata": {},
   "outputs": [],
   "source": [
    "from sklearn.preprocessing import StandardScaler\n",
    "scaler = StandardScaler()"
   ]
  },
  {
   "cell_type": "code",
   "execution_count": 14,
   "metadata": {},
   "outputs": [],
   "source": [
    "to_scale = ['X1','X2','X3','X6','X7']"
   ]
  },
  {
   "cell_type": "code",
   "execution_count": 15,
   "metadata": {},
   "outputs": [],
   "source": [
    "db_train[to_scale] = scaler.fit_transform(db_train[to_scale])\n",
    "db_test[to_scale] = scaler.fit_transform(db_test[to_scale])"
   ]
  },
  {
   "cell_type": "code",
   "execution_count": 16,
   "metadata": {},
   "outputs": [
    {
     "data": {
      "text/html": [
       "<div>\n",
       "<style scoped>\n",
       "    .dataframe tbody tr th:only-of-type {\n",
       "        vertical-align: middle;\n",
       "    }\n",
       "\n",
       "    .dataframe tbody tr th {\n",
       "        vertical-align: top;\n",
       "    }\n",
       "\n",
       "    .dataframe thead th {\n",
       "        text-align: right;\n",
       "    }\n",
       "</style>\n",
       "<table border=\"1\" class=\"dataframe\">\n",
       "  <thead>\n",
       "    <tr style=\"text-align: right;\">\n",
       "      <th></th>\n",
       "      <th>target</th>\n",
       "      <th>X1</th>\n",
       "      <th>X2</th>\n",
       "      <th>X3</th>\n",
       "      <th>X4</th>\n",
       "      <th>X5</th>\n",
       "      <th>X6</th>\n",
       "      <th>X7</th>\n",
       "    </tr>\n",
       "  </thead>\n",
       "  <tbody>\n",
       "    <tr>\n",
       "      <th>778</th>\n",
       "      <td>699.009580</td>\n",
       "      <td>0.400426</td>\n",
       "      <td>-0.542146</td>\n",
       "      <td>1.601344</td>\n",
       "      <td>1.141944</td>\n",
       "      <td>-60.104085</td>\n",
       "      <td>0.130998</td>\n",
       "      <td>-0.542146</td>\n",
       "    </tr>\n",
       "    <tr>\n",
       "      <th>662</th>\n",
       "      <td>179.345579</td>\n",
       "      <td>0.130230</td>\n",
       "      <td>-0.922785</td>\n",
       "      <td>-1.064190</td>\n",
       "      <td>2.381001</td>\n",
       "      <td>-53.238546</td>\n",
       "      <td>-1.414602</td>\n",
       "      <td>-0.922785</td>\n",
       "    </tr>\n",
       "    <tr>\n",
       "      <th>996</th>\n",
       "      <td>5069.430576</td>\n",
       "      <td>0.011423</td>\n",
       "      <td>2.172231</td>\n",
       "      <td>0.711180</td>\n",
       "      <td>0.645249</td>\n",
       "      <td>-67.840334</td>\n",
       "      <td>-1.414602</td>\n",
       "      <td>2.172231</td>\n",
       "    </tr>\n",
       "    <tr>\n",
       "      <th>498</th>\n",
       "      <td>904.302042</td>\n",
       "      <td>-0.468217</td>\n",
       "      <td>0.021250</td>\n",
       "      <td>-0.376380</td>\n",
       "      <td>1.517226</td>\n",
       "      <td>-77.665405</td>\n",
       "      <td>1.058357</td>\n",
       "      <td>0.021250</td>\n",
       "    </tr>\n",
       "    <tr>\n",
       "      <th>692</th>\n",
       "      <td>579.638589</td>\n",
       "      <td>-0.271044</td>\n",
       "      <td>-0.386388</td>\n",
       "      <td>-0.515506</td>\n",
       "      <td>0.357992</td>\n",
       "      <td>-65.975142</td>\n",
       "      <td>0.130998</td>\n",
       "      <td>-0.386388</td>\n",
       "    </tr>\n",
       "  </tbody>\n",
       "</table>\n",
       "</div>"
      ],
      "text/plain": [
       "          target        X1        X2        X3        X4         X5        X6  \\\n",
       "778   699.009580  0.400426 -0.542146  1.601344  1.141944 -60.104085  0.130998   \n",
       "662   179.345579  0.130230 -0.922785 -1.064190  2.381001 -53.238546 -1.414602   \n",
       "996  5069.430576  0.011423  2.172231  0.711180  0.645249 -67.840334 -1.414602   \n",
       "498   904.302042 -0.468217  0.021250 -0.376380  1.517226 -77.665405  1.058357   \n",
       "692   579.638589 -0.271044 -0.386388 -0.515506  0.357992 -65.975142  0.130998   \n",
       "\n",
       "           X7  \n",
       "778 -0.542146  \n",
       "662 -0.922785  \n",
       "996  2.172231  \n",
       "498  0.021250  \n",
       "692 -0.386388  "
      ]
     },
     "execution_count": 16,
     "metadata": {},
     "output_type": "execute_result"
    }
   ],
   "source": [
    "db_train.sample(5)"
   ]
  },
  {
   "cell_type": "code",
   "execution_count": 272,
   "metadata": {},
   "outputs": [
    {
     "data": {
      "text/html": [
       "<div>\n",
       "<style scoped>\n",
       "    .dataframe tbody tr th:only-of-type {\n",
       "        vertical-align: middle;\n",
       "    }\n",
       "\n",
       "    .dataframe tbody tr th {\n",
       "        vertical-align: top;\n",
       "    }\n",
       "\n",
       "    .dataframe thead th {\n",
       "        text-align: right;\n",
       "    }\n",
       "</style>\n",
       "<table border=\"1\" class=\"dataframe\">\n",
       "  <thead>\n",
       "    <tr style=\"text-align: right;\">\n",
       "      <th></th>\n",
       "      <th>target</th>\n",
       "      <th>X1</th>\n",
       "      <th>X2</th>\n",
       "      <th>X3</th>\n",
       "      <th>X4</th>\n",
       "      <th>X5</th>\n",
       "      <th>X6</th>\n",
       "      <th>X7</th>\n",
       "    </tr>\n",
       "  </thead>\n",
       "  <tbody>\n",
       "    <tr>\n",
       "      <th>count</th>\n",
       "      <td>715.00000</td>\n",
       "      <td>715.00000</td>\n",
       "      <td>715.00000</td>\n",
       "      <td>715.00000</td>\n",
       "      <td>715.00000</td>\n",
       "      <td>715.00000</td>\n",
       "      <td>715.00000</td>\n",
       "      <td>715.00000</td>\n",
       "    </tr>\n",
       "    <tr>\n",
       "      <th>mean</th>\n",
       "      <td>1349.94023</td>\n",
       "      <td>-0.00000</td>\n",
       "      <td>0.00000</td>\n",
       "      <td>-0.00000</td>\n",
       "      <td>2.33020</td>\n",
       "      <td>-64.98693</td>\n",
       "      <td>-0.00000</td>\n",
       "      <td>-0.00000</td>\n",
       "    </tr>\n",
       "    <tr>\n",
       "      <th>std</th>\n",
       "      <td>1593.20109</td>\n",
       "      <td>1.00070</td>\n",
       "      <td>1.00070</td>\n",
       "      <td>1.00070</td>\n",
       "      <td>2.49879</td>\n",
       "      <td>9.52430</td>\n",
       "      <td>1.00070</td>\n",
       "      <td>1.00070</td>\n",
       "    </tr>\n",
       "    <tr>\n",
       "      <th>min</th>\n",
       "      <td>0.06255</td>\n",
       "      <td>-2.63301</td>\n",
       "      <td>-1.64774</td>\n",
       "      <td>-2.96585</td>\n",
       "      <td>0.00982</td>\n",
       "      <td>-121.45042</td>\n",
       "      <td>-1.41460</td>\n",
       "      <td>-1.64774</td>\n",
       "    </tr>\n",
       "    <tr>\n",
       "      <th>25%</th>\n",
       "      <td>230.63231</td>\n",
       "      <td>-0.65638</td>\n",
       "      <td>-0.77794</td>\n",
       "      <td>-0.65587</td>\n",
       "      <td>0.59764</td>\n",
       "      <td>-69.08540</td>\n",
       "      <td>-1.41460</td>\n",
       "      <td>-0.77794</td>\n",
       "    </tr>\n",
       "    <tr>\n",
       "      <th>50%</th>\n",
       "      <td>808.37437</td>\n",
       "      <td>-0.00439</td>\n",
       "      <td>-0.15013</td>\n",
       "      <td>0.01186</td>\n",
       "      <td>1.52610</td>\n",
       "      <td>-65.07825</td>\n",
       "      <td>0.13100</td>\n",
       "      <td>-0.15013</td>\n",
       "    </tr>\n",
       "    <tr>\n",
       "      <th>75%</th>\n",
       "      <td>1849.75422</td>\n",
       "      <td>0.62241</td>\n",
       "      <td>0.58945</td>\n",
       "      <td>0.68448</td>\n",
       "      <td>3.14391</td>\n",
       "      <td>-61.11738</td>\n",
       "      <td>1.05836</td>\n",
       "      <td>0.58945</td>\n",
       "    </tr>\n",
       "    <tr>\n",
       "      <th>max</th>\n",
       "      <td>10382.46948</td>\n",
       "      <td>3.18694</td>\n",
       "      <td>3.52033</td>\n",
       "      <td>3.16974</td>\n",
       "      <td>18.81301</td>\n",
       "      <td>53.91920</td>\n",
       "      <td>1.05836</td>\n",
       "      <td>3.52033</td>\n",
       "    </tr>\n",
       "  </tbody>\n",
       "</table>\n",
       "</div>"
      ],
      "text/plain": [
       "            target         X1         X2         X3         X4         X5  \\\n",
       "count    715.00000  715.00000  715.00000  715.00000  715.00000  715.00000   \n",
       "mean    1349.94023   -0.00000    0.00000   -0.00000    2.33020  -64.98693   \n",
       "std     1593.20109    1.00070    1.00070    1.00070    2.49879    9.52430   \n",
       "min        0.06255   -2.63301   -1.64774   -2.96585    0.00982 -121.45042   \n",
       "25%      230.63231   -0.65638   -0.77794   -0.65587    0.59764  -69.08540   \n",
       "50%      808.37437   -0.00439   -0.15013    0.01186    1.52610  -65.07825   \n",
       "75%     1849.75422    0.62241    0.58945    0.68448    3.14391  -61.11738   \n",
       "max    10382.46948    3.18694    3.52033    3.16974   18.81301   53.91920   \n",
       "\n",
       "              X6         X7  \n",
       "count  715.00000  715.00000  \n",
       "mean    -0.00000   -0.00000  \n",
       "std      1.00070    1.00070  \n",
       "min     -1.41460   -1.64774  \n",
       "25%     -1.41460   -0.77794  \n",
       "50%      0.13100   -0.15013  \n",
       "75%      1.05836    0.58945  \n",
       "max      1.05836    3.52033  "
      ]
     },
     "execution_count": 272,
     "metadata": {},
     "output_type": "execute_result"
    }
   ],
   "source": [
    "db_train.describe().round(5)"
   ]
  },
  {
   "cell_type": "code",
   "execution_count": 17,
   "metadata": {},
   "outputs": [
    {
     "data": {
      "text/html": [
       "<div>\n",
       "<style scoped>\n",
       "    .dataframe tbody tr th:only-of-type {\n",
       "        vertical-align: middle;\n",
       "    }\n",
       "\n",
       "    .dataframe tbody tr th {\n",
       "        vertical-align: top;\n",
       "    }\n",
       "\n",
       "    .dataframe thead th {\n",
       "        text-align: right;\n",
       "    }\n",
       "</style>\n",
       "<table border=\"1\" class=\"dataframe\">\n",
       "  <thead>\n",
       "    <tr style=\"text-align: right;\">\n",
       "      <th></th>\n",
       "      <th>target</th>\n",
       "      <th>X1</th>\n",
       "      <th>X2</th>\n",
       "      <th>X3</th>\n",
       "      <th>X4</th>\n",
       "      <th>X5</th>\n",
       "      <th>X6</th>\n",
       "      <th>X7</th>\n",
       "    </tr>\n",
       "  </thead>\n",
       "  <tbody>\n",
       "    <tr>\n",
       "      <th>target</th>\n",
       "      <td>1.000000</td>\n",
       "      <td>0.514485</td>\n",
       "      <td>0.938318</td>\n",
       "      <td>0.057441</td>\n",
       "      <td>-0.011001</td>\n",
       "      <td>-0.023407</td>\n",
       "      <td>0.040508</td>\n",
       "      <td>0.938318</td>\n",
       "    </tr>\n",
       "    <tr>\n",
       "      <th>X1</th>\n",
       "      <td>0.514485</td>\n",
       "      <td>1.000000</td>\n",
       "      <td>0.391877</td>\n",
       "      <td>-0.043520</td>\n",
       "      <td>0.004531</td>\n",
       "      <td>0.009388</td>\n",
       "      <td>0.034558</td>\n",
       "      <td>0.391877</td>\n",
       "    </tr>\n",
       "    <tr>\n",
       "      <th>X2</th>\n",
       "      <td>0.938318</td>\n",
       "      <td>0.391877</td>\n",
       "      <td>1.000000</td>\n",
       "      <td>0.030203</td>\n",
       "      <td>0.091770</td>\n",
       "      <td>-0.055510</td>\n",
       "      <td>0.045088</td>\n",
       "      <td>1.000000</td>\n",
       "    </tr>\n",
       "    <tr>\n",
       "      <th>X3</th>\n",
       "      <td>0.057441</td>\n",
       "      <td>-0.043520</td>\n",
       "      <td>0.030203</td>\n",
       "      <td>1.000000</td>\n",
       "      <td>0.095165</td>\n",
       "      <td>0.010467</td>\n",
       "      <td>-0.004720</td>\n",
       "      <td>0.030203</td>\n",
       "    </tr>\n",
       "    <tr>\n",
       "      <th>X4</th>\n",
       "      <td>-0.011001</td>\n",
       "      <td>0.004531</td>\n",
       "      <td>0.091770</td>\n",
       "      <td>0.095165</td>\n",
       "      <td>1.000000</td>\n",
       "      <td>-0.057918</td>\n",
       "      <td>-0.021941</td>\n",
       "      <td>0.091770</td>\n",
       "    </tr>\n",
       "    <tr>\n",
       "      <th>X5</th>\n",
       "      <td>-0.023407</td>\n",
       "      <td>0.009388</td>\n",
       "      <td>-0.055510</td>\n",
       "      <td>0.010467</td>\n",
       "      <td>-0.057918</td>\n",
       "      <td>1.000000</td>\n",
       "      <td>-0.050802</td>\n",
       "      <td>-0.055510</td>\n",
       "    </tr>\n",
       "    <tr>\n",
       "      <th>X6</th>\n",
       "      <td>0.040508</td>\n",
       "      <td>0.034558</td>\n",
       "      <td>0.045088</td>\n",
       "      <td>-0.004720</td>\n",
       "      <td>-0.021941</td>\n",
       "      <td>-0.050802</td>\n",
       "      <td>1.000000</td>\n",
       "      <td>0.045088</td>\n",
       "    </tr>\n",
       "    <tr>\n",
       "      <th>X7</th>\n",
       "      <td>0.938318</td>\n",
       "      <td>0.391877</td>\n",
       "      <td>1.000000</td>\n",
       "      <td>0.030203</td>\n",
       "      <td>0.091770</td>\n",
       "      <td>-0.055510</td>\n",
       "      <td>0.045088</td>\n",
       "      <td>1.000000</td>\n",
       "    </tr>\n",
       "  </tbody>\n",
       "</table>\n",
       "</div>"
      ],
      "text/plain": [
       "          target        X1        X2        X3        X4        X5        X6  \\\n",
       "target  1.000000  0.514485  0.938318  0.057441 -0.011001 -0.023407  0.040508   \n",
       "X1      0.514485  1.000000  0.391877 -0.043520  0.004531  0.009388  0.034558   \n",
       "X2      0.938318  0.391877  1.000000  0.030203  0.091770 -0.055510  0.045088   \n",
       "X3      0.057441 -0.043520  0.030203  1.000000  0.095165  0.010467 -0.004720   \n",
       "X4     -0.011001  0.004531  0.091770  0.095165  1.000000 -0.057918 -0.021941   \n",
       "X5     -0.023407  0.009388 -0.055510  0.010467 -0.057918  1.000000 -0.050802   \n",
       "X6      0.040508  0.034558  0.045088 -0.004720 -0.021941 -0.050802  1.000000   \n",
       "X7      0.938318  0.391877  1.000000  0.030203  0.091770 -0.055510  0.045088   \n",
       "\n",
       "              X7  \n",
       "target  0.938318  \n",
       "X1      0.391877  \n",
       "X2      1.000000  \n",
       "X3      0.030203  \n",
       "X4      0.091770  \n",
       "X5     -0.055510  \n",
       "X6      0.045088  \n",
       "X7      1.000000  "
      ]
     },
     "execution_count": 17,
     "metadata": {},
     "output_type": "execute_result"
    }
   ],
   "source": [
    "db_train.corr()"
   ]
  },
  {
   "attachments": {},
   "cell_type": "markdown",
   "metadata": {},
   "source": [
    "Seleção de Features"
   ]
  },
  {
   "cell_type": "code",
   "execution_count": 18,
   "metadata": {},
   "outputs": [],
   "source": [
    "FEATURES = ['X1','X2','X3','X6','X7']\n",
    "TARGET = ['target']"
   ]
  },
  {
   "cell_type": "code",
   "execution_count": 19,
   "metadata": {},
   "outputs": [],
   "source": [
    "X_train = db_train[FEATURES]\n",
    "y_train = db_train[TARGET]\n",
    "\n",
    "X_test = db_test[FEATURES]\n",
    "y_test = db_test[TARGET]"
   ]
  },
  {
   "attachments": {},
   "cell_type": "markdown",
   "metadata": {},
   "source": [
    "# Multiple linear Regression"
   ]
  },
  {
   "cell_type": "code",
   "execution_count": 20,
   "metadata": {},
   "outputs": [],
   "source": [
    "from sklearn.linear_model import LinearRegression\n",
    "lr = LinearRegression()"
   ]
  },
  {
   "cell_type": "code",
   "execution_count": 21,
   "metadata": {},
   "outputs": [
    {
     "data": {
      "text/html": [
       "<style>#sk-container-id-1 {color: black;background-color: white;}#sk-container-id-1 pre{padding: 0;}#sk-container-id-1 div.sk-toggleable {background-color: white;}#sk-container-id-1 label.sk-toggleable__label {cursor: pointer;display: block;width: 100%;margin-bottom: 0;padding: 0.3em;box-sizing: border-box;text-align: center;}#sk-container-id-1 label.sk-toggleable__label-arrow:before {content: \"▸\";float: left;margin-right: 0.25em;color: #696969;}#sk-container-id-1 label.sk-toggleable__label-arrow:hover:before {color: black;}#sk-container-id-1 div.sk-estimator:hover label.sk-toggleable__label-arrow:before {color: black;}#sk-container-id-1 div.sk-toggleable__content {max-height: 0;max-width: 0;overflow: hidden;text-align: left;background-color: #f0f8ff;}#sk-container-id-1 div.sk-toggleable__content pre {margin: 0.2em;color: black;border-radius: 0.25em;background-color: #f0f8ff;}#sk-container-id-1 input.sk-toggleable__control:checked~div.sk-toggleable__content {max-height: 200px;max-width: 100%;overflow: auto;}#sk-container-id-1 input.sk-toggleable__control:checked~label.sk-toggleable__label-arrow:before {content: \"▾\";}#sk-container-id-1 div.sk-estimator input.sk-toggleable__control:checked~label.sk-toggleable__label {background-color: #d4ebff;}#sk-container-id-1 div.sk-label input.sk-toggleable__control:checked~label.sk-toggleable__label {background-color: #d4ebff;}#sk-container-id-1 input.sk-hidden--visually {border: 0;clip: rect(1px 1px 1px 1px);clip: rect(1px, 1px, 1px, 1px);height: 1px;margin: -1px;overflow: hidden;padding: 0;position: absolute;width: 1px;}#sk-container-id-1 div.sk-estimator {font-family: monospace;background-color: #f0f8ff;border: 1px dotted black;border-radius: 0.25em;box-sizing: border-box;margin-bottom: 0.5em;}#sk-container-id-1 div.sk-estimator:hover {background-color: #d4ebff;}#sk-container-id-1 div.sk-parallel-item::after {content: \"\";width: 100%;border-bottom: 1px solid gray;flex-grow: 1;}#sk-container-id-1 div.sk-label:hover label.sk-toggleable__label {background-color: #d4ebff;}#sk-container-id-1 div.sk-serial::before {content: \"\";position: absolute;border-left: 1px solid gray;box-sizing: border-box;top: 0;bottom: 0;left: 50%;z-index: 0;}#sk-container-id-1 div.sk-serial {display: flex;flex-direction: column;align-items: center;background-color: white;padding-right: 0.2em;padding-left: 0.2em;position: relative;}#sk-container-id-1 div.sk-item {position: relative;z-index: 1;}#sk-container-id-1 div.sk-parallel {display: flex;align-items: stretch;justify-content: center;background-color: white;position: relative;}#sk-container-id-1 div.sk-item::before, #sk-container-id-1 div.sk-parallel-item::before {content: \"\";position: absolute;border-left: 1px solid gray;box-sizing: border-box;top: 0;bottom: 0;left: 50%;z-index: -1;}#sk-container-id-1 div.sk-parallel-item {display: flex;flex-direction: column;z-index: 1;position: relative;background-color: white;}#sk-container-id-1 div.sk-parallel-item:first-child::after {align-self: flex-end;width: 50%;}#sk-container-id-1 div.sk-parallel-item:last-child::after {align-self: flex-start;width: 50%;}#sk-container-id-1 div.sk-parallel-item:only-child::after {width: 0;}#sk-container-id-1 div.sk-dashed-wrapped {border: 1px dashed gray;margin: 0 0.4em 0.5em 0.4em;box-sizing: border-box;padding-bottom: 0.4em;background-color: white;}#sk-container-id-1 div.sk-label label {font-family: monospace;font-weight: bold;display: inline-block;line-height: 1.2em;}#sk-container-id-1 div.sk-label-container {text-align: center;}#sk-container-id-1 div.sk-container {/* jupyter's `normalize.less` sets `[hidden] { display: none; }` but bootstrap.min.css set `[hidden] { display: none !important; }` so we also need the `!important` here to be able to override the default hidden behavior on the sphinx rendered scikit-learn.org. See: https://github.com/scikit-learn/scikit-learn/issues/21755 */display: inline-block !important;position: relative;}#sk-container-id-1 div.sk-text-repr-fallback {display: none;}</style><div id=\"sk-container-id-1\" class=\"sk-top-container\"><div class=\"sk-text-repr-fallback\"><pre>LinearRegression()</pre><b>In a Jupyter environment, please rerun this cell to show the HTML representation or trust the notebook. <br />On GitHub, the HTML representation is unable to render, please try loading this page with nbviewer.org.</b></div><div class=\"sk-container\" hidden><div class=\"sk-item\"><div class=\"sk-estimator sk-toggleable\"><input class=\"sk-toggleable__control sk-hidden--visually\" id=\"sk-estimator-id-1\" type=\"checkbox\" checked><label for=\"sk-estimator-id-1\" class=\"sk-toggleable__label sk-toggleable__label-arrow\">LinearRegression</label><div class=\"sk-toggleable__content\"><pre>LinearRegression()</pre></div></div></div></div></div>"
      ],
      "text/plain": [
       "LinearRegression()"
      ]
     },
     "execution_count": 21,
     "metadata": {},
     "output_type": "execute_result"
    }
   ],
   "source": [
    "lr.fit(X_train,y_train)"
   ]
  },
  {
   "cell_type": "code",
   "execution_count": 22,
   "metadata": {},
   "outputs": [
    {
     "data": {
      "text/plain": [
       "array([1349.9402285])"
      ]
     },
     "execution_count": 22,
     "metadata": {},
     "output_type": "execute_result"
    }
   ],
   "source": [
    "lr.intercept_"
   ]
  },
  {
   "cell_type": "code",
   "execution_count": 23,
   "metadata": {},
   "outputs": [
    {
     "data": {
      "text/plain": [
       "array([[280.27420871, 691.25439299,  61.85871047,  -7.23603113,\n",
       "        691.25439299]])"
      ]
     },
     "execution_count": 23,
     "metadata": {},
     "output_type": "execute_result"
    }
   ],
   "source": [
    "lr.coef_"
   ]
  },
  {
   "cell_type": "code",
   "execution_count": 24,
   "metadata": {},
   "outputs": [],
   "source": [
    "y_pred = lr.predict(X_train)"
   ]
  },
  {
   "cell_type": "code",
   "execution_count": 25,
   "metadata": {},
   "outputs": [
    {
     "data": {
      "image/png": "[encoded data removed]",
      "text/plain": [
       "<Figure size 432x288 with 1 Axes>"
      ]
     },
     "metadata": {
      "needs_background": "light"
     },
     "output_type": "display_data"
    }
   ],
   "source": [
    "import matplotlib.pyplot as plt\n",
    "\n",
    "plt.scatter(y_train,y_pred)\n",
    "plt.xlabel('Actual')\n",
    "plt.ylabel('Predicted')\n",
    "plt.show()"
   ]
  },
  {
   "cell_type": "code",
   "execution_count": 26,
   "metadata": {},
   "outputs": [
    {
     "data": {
      "text/plain": [
       "array([[280.27420871, 691.25439299,  61.85871047,  -7.23603113,\n",
       "        691.25439299]])"
      ]
     },
     "execution_count": 26,
     "metadata": {},
     "output_type": "execute_result"
    }
   ],
   "source": [
    "importances = lr.coef_\n",
    "importances"
   ]
  },
  {
   "cell_type": "code",
   "execution_count": 27,
   "metadata": {},
   "outputs": [],
   "source": [
    "importances = pd.DataFrame(data=importances,\n",
    "             columns=[FEATURES]).T"
   ]
  },
  {
   "cell_type": "code",
   "execution_count": 34,
   "metadata": {},
   "outputs": [],
   "source": [
    "importances = importances.rename({0:'Importancia'},axis=1)"
   ]
  },
  {
   "attachments": {},
   "cell_type": "markdown",
   "metadata": {},
   "source": [
    "Métricas e importâncias"
   ]
  },
  {
   "cell_type": "code",
   "execution_count": 35,
   "metadata": {},
   "outputs": [
    {
     "data": {
      "text/html": [
       "<div>\n",
       "<style scoped>\n",
       "    .dataframe tbody tr th:only-of-type {\n",
       "        vertical-align: middle;\n",
       "    }\n",
       "\n",
       "    .dataframe tbody tr th {\n",
       "        vertical-align: top;\n",
       "    }\n",
       "\n",
       "    .dataframe thead th {\n",
       "        text-align: right;\n",
       "    }\n",
       "</style>\n",
       "<table border=\"1\" class=\"dataframe\">\n",
       "  <thead>\n",
       "    <tr style=\"text-align: right;\">\n",
       "      <th></th>\n",
       "      <th>Importancia</th>\n",
       "    </tr>\n",
       "  </thead>\n",
       "  <tbody>\n",
       "    <tr>\n",
       "      <th>X1</th>\n",
       "      <td>280.274209</td>\n",
       "    </tr>\n",
       "    <tr>\n",
       "      <th>X2</th>\n",
       "      <td>691.254393</td>\n",
       "    </tr>\n",
       "    <tr>\n",
       "      <th>X3</th>\n",
       "      <td>61.858710</td>\n",
       "    </tr>\n",
       "    <tr>\n",
       "      <th>X6</th>\n",
       "      <td>-7.236031</td>\n",
       "    </tr>\n",
       "    <tr>\n",
       "      <th>X7</th>\n",
       "      <td>691.254393</td>\n",
       "    </tr>\n",
       "  </tbody>\n",
       "</table>\n",
       "</div>"
      ],
      "text/plain": [
       "    Importancia\n",
       "X1   280.274209\n",
       "X2   691.254393\n",
       "X3    61.858710\n",
       "X6    -7.236031\n",
       "X7   691.254393"
      ]
     },
     "execution_count": 35,
     "metadata": {},
     "output_type": "execute_result"
    }
   ],
   "source": [
    "# Observamos que as variaveis 'X2' e 'X7' são as de maior relevancia, ja que tem o maior valor de coeficiente, pelo que os valores desta variavel afetarão mais o target.\n",
    "# é importante mencionar que o mesmo modelo se fez mas sem standarizar e a importancia da variavel X7 era maior, provavelmente como ambas variaveis tem uma destribuição muito parecida,\n",
    "# no momento da estandarização, se comportam praticamente no mesmo grau de influencia.\n",
    "importances"
   ]
  },
  {
   "cell_type": "code",
   "execution_count": 30,
   "metadata": {},
   "outputs": [
    {
     "name": "stdout",
     "output_type": "stream",
     "text": [
      "r2:  0.9074194154122478\n"
     ]
    }
   ],
   "source": [
    "# Em relação ao coeficiente de determinação(r2), presenta um valor muito bom, chegando bastante perto ao 1, pelo que as variaveis independentes(features) \n",
    "# explicam em até um 90.7% as variações da variavel dependente(target) \n",
    "\n",
    "from sklearn.metrics import r2_score, mean_squared_error\n",
    "print(\"r2: \", r2_score(y_train,y_pred))\n"
   ]
  },
  {
   "cell_type": "code",
   "execution_count": 31,
   "metadata": {},
   "outputs": [
    {
     "name": "stdout",
     "output_type": "stream",
     "text": [
      "rmse:  484.4251032139681\n"
     ]
    }
   ],
   "source": [
    "# Em relação ao rmse, presenta um valor elevado, pelo que pode chegar a presentar uma diferença significativa entre o observado e o previsto.\n",
    "print(\"rmse: \", mean_squared_error(y_train,y_pred,squared=False))"
   ]
  }
 ],
 "metadata": {
  "kernelspec": {
   "display_name": "Python 3",
   "language": "python",
   "name": "python3"
  },
  "language_info": {
   "codemirror_mode": {
    "name": "ipython",
    "version": 3
   },
   "file_extension": ".py",
   "mimetype": "text/x-python",
   "name": "python",
   "nbconvert_exporter": "python",
   "pygments_lexer": "ipython3",
   "version": "3.10.5"
  },
  "orig_nbformat": 4,
  "vscode": {
   "interpreter": {
    "hash": "6f52065960efd9c01b2ec1d60a5c4d050f69b3d5f630ae721b9f05d65d21db56"
   }
  }
 },
 "nbformat": 4,
 "nbformat_minor": 2
}
