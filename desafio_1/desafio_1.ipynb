{
 "cells": [
  {
   "attachments": {},
   "cell_type": "markdown",
   "metadata": {},
   "source": [
    "# Desafio 1."
   ]
  },
  {
   "attachments": {},
   "cell_type": "markdown",
   "metadata": {},
   "source": [
    "# Análise descritiva dos dados (EDA)"
   ]
  },
  {
   "attachments": {},
   "cell_type": "markdown",
   "metadata": {},
   "source": [
    "1. Construa uma análise descritiva extraindo conhecimento das variáveis e apresentando quais insights podem ser obtidos a partir delas;\n",
    "\n",
    "2. Mostre-nos um caminho para selecionar graficamente as variáveis mais ou menos importantes para cada problema, como elas se relacionam e porquê.\n",
    "\n",
    "3. Em cada problema descreva quais outras técnicas poderiam ser aplicadas e porquê você não as escolheu.\n",
    "\n",
    "* Utilize os dados: eda_receitas_data.zip"
   ]
  },
  {
   "attachments": {},
   "cell_type": "markdown",
   "metadata": {},
   "source": [
    "#### Bibliotecas que vamos precisar"
   ]
  },
  {
   "cell_type": "code",
   "execution_count": 1,
   "metadata": {},
   "outputs": [],
   "source": [
    "import pandas as pd\n",
    "import numpy as np\n",
    "import matplotlib.pyplot as plt\n",
    "import seaborn as sns\n",
    "from scipy import stats"
   ]
  },
  {
   "cell_type": "code",
   "execution_count": 2,
   "metadata": {},
   "outputs": [],
   "source": [
    "db = pd.read_json('receitas.json')"
   ]
  },
  {
   "cell_type": "code",
   "execution_count": 3,
   "metadata": {},
   "outputs": [
    {
     "data": {
      "text/html": [
       "<div>\n",
       "<style scoped>\n",
       "    .dataframe tbody tr th:only-of-type {\n",
       "        vertical-align: middle;\n",
       "    }\n",
       "\n",
       "    .dataframe tbody tr th {\n",
       "        vertical-align: top;\n",
       "    }\n",
       "\n",
       "    .dataframe thead th {\n",
       "        text-align: right;\n",
       "    }\n",
       "</style>\n",
       "<table border=\"1\" class=\"dataframe\">\n",
       "  <thead>\n",
       "    <tr style=\"text-align: right;\">\n",
       "      <th></th>\n",
       "      <th>directions</th>\n",
       "      <th>fat</th>\n",
       "      <th>date</th>\n",
       "      <th>categories</th>\n",
       "      <th>calories</th>\n",
       "      <th>desc</th>\n",
       "      <th>protein</th>\n",
       "      <th>rating</th>\n",
       "      <th>title</th>\n",
       "      <th>ingredients</th>\n",
       "      <th>sodium</th>\n",
       "    </tr>\n",
       "  </thead>\n",
       "  <tbody>\n",
       "    <tr>\n",
       "      <th>5331</th>\n",
       "      <td>[Blend all ingredients in blender until smooth...</td>\n",
       "      <td>68.0</td>\n",
       "      <td>2004-08-20 04:00:00+00:00</td>\n",
       "      <td>[Salad, Blender, Fruit, Leafy Green, Side, Cin...</td>\n",
       "      <td>805.0</td>\n",
       "      <td>Spicy and sweet, this unusual salad would be i...</td>\n",
       "      <td>8.0</td>\n",
       "      <td>4.375</td>\n",
       "      <td>Fiesta Tortilla Salad</td>\n",
       "      <td>[1 small mango, peeled, pitted, diced, 1/2 cup...</td>\n",
       "      <td>33.0</td>\n",
       "    </tr>\n",
       "    <tr>\n",
       "      <th>14576</th>\n",
       "      <td>[Preheat oven to 375°F. Wrap beets in aluminum...</td>\n",
       "      <td>14.0</td>\n",
       "      <td>2004-08-20 04:00:00+00:00</td>\n",
       "      <td>[Salad, Leafy Green, Herb, Mustard, Vegetable,...</td>\n",
       "      <td>175.0</td>\n",
       "      <td>Dill and arugula complement this lovely salad.</td>\n",
       "      <td>3.0</td>\n",
       "      <td>4.375</td>\n",
       "      <td>Roasted Beet and Sugar Snap Pea Salad</td>\n",
       "      <td>[3 medium beets, trimmed, 1/2 pound sugar snap...</td>\n",
       "      <td>93.0</td>\n",
       "    </tr>\n",
       "    <tr>\n",
       "      <th>1744</th>\n",
       "      <td>[Stir first 6 ingredients in heavy large sauce...</td>\n",
       "      <td>0.0</td>\n",
       "      <td>2004-08-20 04:00:00+00:00</td>\n",
       "      <td>[Condiment/Spread, Sauce, Ginger, Quick &amp; Easy...</td>\n",
       "      <td>226.0</td>\n",
       "      <td>This recipe is an accompaniment for Baked Ham ...</td>\n",
       "      <td>2.0</td>\n",
       "      <td>4.375</td>\n",
       "      <td>Rhubarb Chutney</td>\n",
       "      <td>[1 cup plus 2 tablespoons sugar, 1/2 cup red w...</td>\n",
       "      <td>9.0</td>\n",
       "    </tr>\n",
       "  </tbody>\n",
       "</table>\n",
       "</div>"
      ],
      "text/plain": [
       "                                              directions   fat  \\\n",
       "5331   [Blend all ingredients in blender until smooth...  68.0   \n",
       "14576  [Preheat oven to 375°F. Wrap beets in aluminum...  14.0   \n",
       "1744   [Stir first 6 ingredients in heavy large sauce...   0.0   \n",
       "\n",
       "                           date  \\\n",
       "5331  2004-08-20 04:00:00+00:00   \n",
       "14576 2004-08-20 04:00:00+00:00   \n",
       "1744  2004-08-20 04:00:00+00:00   \n",
       "\n",
       "                                              categories  calories  \\\n",
       "5331   [Salad, Blender, Fruit, Leafy Green, Side, Cin...     805.0   \n",
       "14576  [Salad, Leafy Green, Herb, Mustard, Vegetable,...     175.0   \n",
       "1744   [Condiment/Spread, Sauce, Ginger, Quick & Easy...     226.0   \n",
       "\n",
       "                                                    desc  protein  rating  \\\n",
       "5331   Spicy and sweet, this unusual salad would be i...      8.0   4.375   \n",
       "14576     Dill and arugula complement this lovely salad.      3.0   4.375   \n",
       "1744   This recipe is an accompaniment for Baked Ham ...      2.0   4.375   \n",
       "\n",
       "                                        title  \\\n",
       "5331                   Fiesta Tortilla Salad    \n",
       "14576  Roasted Beet and Sugar Snap Pea Salad    \n",
       "1744                         Rhubarb Chutney    \n",
       "\n",
       "                                             ingredients  sodium  \n",
       "5331   [1 small mango, peeled, pitted, diced, 1/2 cup...    33.0  \n",
       "14576  [3 medium beets, trimmed, 1/2 pound sugar snap...    93.0  \n",
       "1744   [1 cup plus 2 tablespoons sugar, 1/2 cup red w...     9.0  "
      ]
     },
     "execution_count": 3,
     "metadata": {},
     "output_type": "execute_result"
    }
   ],
   "source": [
    "db.sample(3) #Data e rating / categoria e rating / categories = [] pode significar ou que não existem as tags para aquele prato, ou escreveram um \" \" (espaço) no nome"
   ]
  },
  {
   "cell_type": "code",
   "execution_count": 4,
   "metadata": {},
   "outputs": [
    {
     "data": {
      "text/plain": [
       "[]                                                                                                                                                                                        59\n",
       "[Bon Appétit]                                                                                                                                                                             14\n",
       "[Gourmet]                                                                                                                                                                                 11\n",
       "[Bread, Bake, Winter, Gourmet]                                                                                                                                                             8\n",
       "[Soup/Stew, Fish]                                                                                                                                                                          7\n",
       "                                                                                                                                                                                          ..\n",
       "[Egg, Breakfast, Brunch, Bake, Poach, Parmesan, Asparagus, Healthy, Prosciutto, Bon Appétit, Sugar Conscious, Wheat/Gluten-Free, Peanut Free, Tree Nut Free, Soy Free, No Sugar Added]     1\n",
       "[Bread, Appetizer, Bake, Cocktail Party, Quick & Easy, Ricotta, Fig, Fall, Prosciutto, Tarragon, Gourmet, Peanut Free, Soy Free]                                                           1\n",
       "[Side, Passover, Quinoa, Spring, Dried Fruit, Cherry, Saffron, Almond, Wheat/Gluten-Free, Vegetarian, Vegan]                                                                               1\n",
       "[Vegetable, Side, Sauté, Vegetarian, Rosemary, Parsnip, Turnip, Fall, Shallot, Gourmet, Pescatarian, Wheat/Gluten-Free, Peanut Free, Tree Nut Free, Soy Free, No Sugar Added, Kosher]      1\n",
       "[Pork, Bake, Roast, Christmas, Ham, Winter, Bon Appétit]                                                                                                                                   1\n",
       "Name: categories, Length: 18177, dtype: int64"
      ]
     },
     "execution_count": 4,
     "metadata": {},
     "output_type": "execute_result"
    }
   ],
   "source": [
    "db.categories.value_counts()   # A variavel categories não está classificado de um jeito eficiente, sempre que uma característica existe naquele prato, ele é sumado a uma lista,\n",
    "                               # e por ter características tão específicas como \"apple\", terminasse gerando valores unicos(listas) demais, que no final de contas não serve pra classificar\n",
    "\n",
    "                               # Uma recomendação sería manter algumas características específicas como \"apple\" dentro da variavel ingredients, \n",
    "                               # e manter as especificações dentro de categories mais generalistas como \"gourmet\",\"Bake\",\"breakfast\""
   ]
  },
  {
   "cell_type": "code",
   "execution_count": 5,
   "metadata": {},
   "outputs": [],
   "source": [
    "#pd.set_option('display.max_rows',None)\n",
    "#pd.reset_option('display.max_rows')\n",
    "#pd.set_option('display.max_colwidth',None)\n",
    "pd.reset_option('display.max_colwidth')"
   ]
  },
  {
   "cell_type": "code",
   "execution_count": 6,
   "metadata": {},
   "outputs": [
    {
     "name": "stdout",
     "output_type": "stream",
     "text": [
      "<class 'pandas.core.frame.DataFrame'>\n",
      "RangeIndex: 20130 entries, 0 to 20129\n",
      "Data columns (total 11 columns):\n",
      " #   Column       Non-Null Count  Dtype              \n",
      "---  ------       --------------  -----              \n",
      " 0   directions   20111 non-null  object             \n",
      " 1   fat          15908 non-null  float64            \n",
      " 2   date         20111 non-null  datetime64[ns, UTC]\n",
      " 3   categories   20111 non-null  object             \n",
      " 4   calories     15976 non-null  float64            \n",
      " 5   desc         13495 non-null  object             \n",
      " 6   protein      15929 non-null  float64            \n",
      " 7   rating       20100 non-null  float64            \n",
      " 8   title        20111 non-null  object             \n",
      " 9   ingredients  20111 non-null  object             \n",
      " 10  sodium       15974 non-null  float64            \n",
      "dtypes: datetime64[ns, UTC](1), float64(5), object(5)\n",
      "memory usage: 1.7+ MB\n"
     ]
    }
   ],
   "source": [
    "db.info()"
   ]
  },
  {
   "attachments": {},
   "cell_type": "markdown",
   "metadata": {},
   "source": [
    "### Quantidade de valores null"
   ]
  },
  {
   "cell_type": "code",
   "execution_count": 7,
   "metadata": {},
   "outputs": [
    {
     "data": {
      "text/plain": [
       "directions       19\n",
       "fat            4222\n",
       "date             19\n",
       "categories       19\n",
       "calories       4154\n",
       "desc           6635\n",
       "protein        4201\n",
       "rating           30\n",
       "title            19\n",
       "ingredients      19\n",
       "sodium         4156\n",
       "dtype: int64"
      ]
     },
     "execution_count": 7,
     "metadata": {},
     "output_type": "execute_result"
    }
   ],
   "source": [
    "# Null por variavel\n",
    "db.isna().sum()"
   ]
  },
  {
   "cell_type": "code",
   "execution_count": 8,
   "metadata": {},
   "outputs": [
    {
     "data": {
      "text/plain": [
       "23493"
      ]
     },
     "execution_count": 8,
     "metadata": {},
     "output_type": "execute_result"
    }
   ],
   "source": [
    "# Null total da database\n",
    "db.isna().sum().sum()"
   ]
  },
  {
   "cell_type": "code",
   "execution_count": 9,
   "metadata": {},
   "outputs": [
    {
     "data": {
      "image/png": "[encoded data removed]",
      "text/plain": [
       "<Figure size 432x288 with 1 Axes>"
      ]
     },
     "metadata": {},
     "output_type": "display_data"
    }
   ],
   "source": [
    "# Representação gráfica da quantidade total de nulls\n",
    "\n",
    "totalNaN = db.isna().sum().sum()\n",
    "totalNoNaN = db.notnull().sum().sum()\n",
    "y = np.array([totalNoNaN,totalNaN])\n",
    "myexplode = [0,0.2]\n",
    "labels = [\"Valores não nulos\",\"Valores Nulos\"]\n",
    "plt.pie(y, labels=labels, explode=myexplode, shadow=True, autopct='%1.1f%%')\n",
    "plt.legend()\n",
    "plt.show();"
   ]
  },
  {
   "attachments": {},
   "cell_type": "markdown",
   "metadata": {},
   "source": [
    "## Retirando nulos"
   ]
  },
  {
   "cell_type": "code",
   "execution_count": 10,
   "metadata": {},
   "outputs": [
    {
     "data": {
      "text/plain": [
       "directions        0\n",
       "fat            4203\n",
       "date              0\n",
       "categories        0\n",
       "calories       4135\n",
       "desc           6616\n",
       "protein        4182\n",
       "rating           11\n",
       "title             0\n",
       "ingredients       0\n",
       "sodium         4137\n",
       "dtype: int64"
      ]
     },
     "execution_count": 10,
     "metadata": {},
     "output_type": "execute_result"
    }
   ],
   "source": [
    "# Vamos a ver como ficaría a database retirando uma boa parte dos nulls, sem tentar afetar muito ela\n",
    "\n",
    "db2 = db.copy()\n",
    "## Vamos a comparar a quantidade de nulos que restam quando vamos retirando os nulos das variaveis mais importantes, vamos uma por uma começando por title.\n",
    "\n",
    "# mas antes, vamos ver se tem diferença ao dropar aquelas fileiras que todos os registros são nulos\n",
    "db2.dropna(how='all',inplace=True)\n",
    "db2.isna().sum()"
   ]
  },
  {
   "cell_type": "code",
   "execution_count": 11,
   "metadata": {},
   "outputs": [
    {
     "data": {
      "text/html": [
       "<div>\n",
       "<style scoped>\n",
       "    .dataframe tbody tr th:only-of-type {\n",
       "        vertical-align: middle;\n",
       "    }\n",
       "\n",
       "    .dataframe tbody tr th {\n",
       "        vertical-align: top;\n",
       "    }\n",
       "\n",
       "    .dataframe thead th {\n",
       "        text-align: right;\n",
       "    }\n",
       "</style>\n",
       "<table border=\"1\" class=\"dataframe\">\n",
       "  <thead>\n",
       "    <tr style=\"text-align: right;\">\n",
       "      <th></th>\n",
       "      <th>directions</th>\n",
       "      <th>fat</th>\n",
       "      <th>date</th>\n",
       "      <th>categories</th>\n",
       "      <th>calories</th>\n",
       "      <th>desc</th>\n",
       "      <th>protein</th>\n",
       "      <th>rating</th>\n",
       "      <th>title</th>\n",
       "      <th>ingredients</th>\n",
       "      <th>sodium</th>\n",
       "    </tr>\n",
       "  </thead>\n",
       "  <tbody>\n",
       "    <tr>\n",
       "      <th>0</th>\n",
       "      <td>[1. Place the stock, lentils, celery, carrot, ...</td>\n",
       "      <td>7.0</td>\n",
       "      <td>2006-09-01 04:00:00+00:00</td>\n",
       "      <td>[Sandwich, Bean, Fruit, Tomato, turkey, Vegeta...</td>\n",
       "      <td>426.0</td>\n",
       "      <td>None</td>\n",
       "      <td>30.0</td>\n",
       "      <td>2.500</td>\n",
       "      <td>Lentil, Apple, and Turkey Wrap</td>\n",
       "      <td>[4 cups low-sodium vegetable or chicken stock,...</td>\n",
       "      <td>559.0</td>\n",
       "    </tr>\n",
       "    <tr>\n",
       "      <th>1</th>\n",
       "      <td>[Combine first 9 ingredients in heavy medium s...</td>\n",
       "      <td>23.0</td>\n",
       "      <td>2004-08-20 04:00:00+00:00</td>\n",
       "      <td>[Food Processor, Onion, Pork, Bake, Bastille D...</td>\n",
       "      <td>403.0</td>\n",
       "      <td>This uses the same ingredients found in boudin...</td>\n",
       "      <td>18.0</td>\n",
       "      <td>4.375</td>\n",
       "      <td>Boudin Blanc Terrine with Red Onion Confit</td>\n",
       "      <td>[1 1/2 cups whipping cream, 2 medium onions, c...</td>\n",
       "      <td>1439.0</td>\n",
       "    </tr>\n",
       "    <tr>\n",
       "      <th>2</th>\n",
       "      <td>[In a large heavy saucepan cook diced fennel a...</td>\n",
       "      <td>7.0</td>\n",
       "      <td>2004-08-20 04:00:00+00:00</td>\n",
       "      <td>[Soup/Stew, Dairy, Potato, Vegetable, Fennel, ...</td>\n",
       "      <td>165.0</td>\n",
       "      <td>None</td>\n",
       "      <td>6.0</td>\n",
       "      <td>3.750</td>\n",
       "      <td>Potato and Fennel Soup Hodge</td>\n",
       "      <td>[1 fennel bulb (sometimes called anise), stalk...</td>\n",
       "      <td>165.0</td>\n",
       "    </tr>\n",
       "  </tbody>\n",
       "</table>\n",
       "</div>"
      ],
      "text/plain": [
       "                                          directions   fat  \\\n",
       "0  [1. Place the stock, lentils, celery, carrot, ...   7.0   \n",
       "1  [Combine first 9 ingredients in heavy medium s...  23.0   \n",
       "2  [In a large heavy saucepan cook diced fennel a...   7.0   \n",
       "\n",
       "                       date  \\\n",
       "0 2006-09-01 04:00:00+00:00   \n",
       "1 2004-08-20 04:00:00+00:00   \n",
       "2 2004-08-20 04:00:00+00:00   \n",
       "\n",
       "                                          categories  calories  \\\n",
       "0  [Sandwich, Bean, Fruit, Tomato, turkey, Vegeta...     426.0   \n",
       "1  [Food Processor, Onion, Pork, Bake, Bastille D...     403.0   \n",
       "2  [Soup/Stew, Dairy, Potato, Vegetable, Fennel, ...     165.0   \n",
       "\n",
       "                                                desc  protein  rating  \\\n",
       "0                                               None     30.0   2.500   \n",
       "1  This uses the same ingredients found in boudin...     18.0   4.375   \n",
       "2                                               None      6.0   3.750   \n",
       "\n",
       "                                         title  \\\n",
       "0              Lentil, Apple, and Turkey Wrap    \n",
       "1  Boudin Blanc Terrine with Red Onion Confit    \n",
       "2                Potato and Fennel Soup Hodge    \n",
       "\n",
       "                                         ingredients  sodium  \n",
       "0  [4 cups low-sodium vegetable or chicken stock,...   559.0  \n",
       "1  [1 1/2 cups whipping cream, 2 medium onions, c...  1439.0  \n",
       "2  [1 fennel bulb (sometimes called anise), stalk...   165.0  "
      ]
     },
     "execution_count": 11,
     "metadata": {},
     "output_type": "execute_result"
    }
   ],
   "source": [
    "## como deu pra perceber, os registros que tinha nulos na variavel title, tinham nulos em todas as demais variaveis\n",
    "\n",
    "# Nos não podemos de jeito nenhum preparar um prato sem saber os passos, os ingredientes e nem o nome.\n",
    "# Db2 representa os pratos que podemos saber cómo preparar, mas que podemos não saber seus valores nutricionais\n",
    "db2.reset_index(drop=True).head(3)"
   ]
  },
  {
   "cell_type": "code",
   "execution_count": 12,
   "metadata": {},
   "outputs": [],
   "source": [
    "## Infelizmente ainda nesses pratos que sabemos preparar, não temos as informações completas de seus valores nutricionais\n",
    "# Vamos a criar uma database eliminando as fileiras que presentem 3 de 4 valores (fat,calories,protein,sodium) nulos em seus registros\n",
    "db3 = db2.copy()"
   ]
  },
  {
   "cell_type": "code",
   "execution_count": 13,
   "metadata": {},
   "outputs": [
    {
     "data": {
      "text/plain": [
       "directions        0\n",
       "fat              68\n",
       "date              0\n",
       "categories        0\n",
       "calories          0\n",
       "desc           5333\n",
       "protein          47\n",
       "rating            7\n",
       "title             0\n",
       "ingredients       0\n",
       "sodium            2\n",
       "dtype: int64"
      ]
     },
     "execution_count": 13,
     "metadata": {},
     "output_type": "execute_result"
    }
   ],
   "source": [
    "# Primeiro vamos a verificar se tem receitas que tem null em todos seus valores nutricionais.\n",
    "\n",
    "# Como podemos observar, as receitas que tinham nulos, quase na sua totalidade tinham nulos em todos os seus valores nutricionais\n",
    "db3.dropna(subset=['fat','calories','protein','sodium'],how='all',inplace=True)\n",
    "db3.isna().sum()"
   ]
  },
  {
   "cell_type": "code",
   "execution_count": 14,
   "metadata": {},
   "outputs": [
    {
     "data": {
      "text/plain": [
       "124"
      ]
     },
     "execution_count": 14,
     "metadata": {},
     "output_type": "execute_result"
    }
   ],
   "source": [
    "# ja que temos a title, ingredients e directions, apesar de que temos valores nulos em desc (descrição), podemos deduzir ou procurar a descrição desse prato em algum outro lugar, entao deixaremos os valores nulls desta variavel\n",
    "\n",
    "# Conseguimos reducir de 23493 valores nulos a 124 \n",
    "db3.drop(labels=['desc'],axis=1).isna().sum().sum()"
   ]
  },
  {
   "cell_type": "code",
   "execution_count": 15,
   "metadata": {},
   "outputs": [
    {
     "data": {
      "text/plain": [
       "directions        0\n",
       "fat              24\n",
       "date              0\n",
       "categories        0\n",
       "calories          0\n",
       "desc           5309\n",
       "protein           3\n",
       "rating            7\n",
       "title             0\n",
       "ingredients       0\n",
       "sodium            2\n",
       "dtype: int64"
      ]
     },
     "execution_count": 15,
     "metadata": {},
     "output_type": "execute_result"
    }
   ],
   "source": [
    "# Poderiamos reducir ainda mais os valores nulos utilizando dropna com thresh = 2 \n",
    "# Mas como dos 3 valores sodium só tem 2, então estaríamos alternando entre reducir fat ou protein, só existiram 2 receitas que se tem 3 valores nutricionais nulls, se poderíam retirar de acordo com as especificações do cliente.\n",
    "db3.dropna(subset=['fat','protein','sodium'],thresh=2).isna().sum()"
   ]
  },
  {
   "cell_type": "code",
   "execution_count": 16,
   "metadata": {},
   "outputs": [
    {
     "name": "stdout",
     "output_type": "stream",
     "text": [
      "<class 'pandas.core.frame.DataFrame'>\n",
      "RangeIndex: 15976 entries, 0 to 15975\n",
      "Data columns (total 11 columns):\n",
      " #   Column       Non-Null Count  Dtype              \n",
      "---  ------       --------------  -----              \n",
      " 0   directions   15976 non-null  object             \n",
      " 1   fat          15908 non-null  float64            \n",
      " 2   date         15976 non-null  datetime64[ns, UTC]\n",
      " 3   categories   15976 non-null  object             \n",
      " 4   calories     15976 non-null  float64            \n",
      " 5   desc         10643 non-null  object             \n",
      " 6   protein      15929 non-null  float64            \n",
      " 7   rating       15969 non-null  float64            \n",
      " 8   title        15976 non-null  object             \n",
      " 9   ingredients  15976 non-null  object             \n",
      " 10  sodium       15974 non-null  float64            \n",
      "dtypes: datetime64[ns, UTC](1), float64(5), object(5)\n",
      "memory usage: 1.3+ MB\n"
     ]
    }
   ],
   "source": [
    "# Deste jeito ficamos com um total de 15976 registros de 20129\n",
    "db3.reset_index(drop=True).info()"
   ]
  },
  {
   "attachments": {},
   "cell_type": "markdown",
   "metadata": {},
   "source": [
    "Finalmente vamos a cuidar dos duplicados"
   ]
  },
  {
   "cell_type": "code",
   "execution_count": 17,
   "metadata": {},
   "outputs": [],
   "source": [
    "# como drop duplicates não pode ser usado com valores do tipo list, vamos a transformar em str\n",
    "\n",
    "db3 = db3.loc[db3[['directions','categories','ingredients']].astype(str).drop_duplicates().index]"
   ]
  },
  {
   "cell_type": "code",
   "execution_count": 18,
   "metadata": {},
   "outputs": [],
   "source": [
    "db3.reset_index(drop=True,inplace=True)"
   ]
  },
  {
   "cell_type": "code",
   "execution_count": 19,
   "metadata": {},
   "outputs": [
    {
     "name": "stdout",
     "output_type": "stream",
     "text": [
      "<class 'pandas.core.frame.DataFrame'>\n",
      "RangeIndex: 14532 entries, 0 to 14531\n",
      "Data columns (total 11 columns):\n",
      " #   Column       Non-Null Count  Dtype              \n",
      "---  ------       --------------  -----              \n",
      " 0   directions   14532 non-null  object             \n",
      " 1   fat          14479 non-null  float64            \n",
      " 2   date         14532 non-null  datetime64[ns, UTC]\n",
      " 3   categories   14532 non-null  object             \n",
      " 4   calories     14532 non-null  float64            \n",
      " 5   desc         9620 non-null   object             \n",
      " 6   protein      14499 non-null  float64            \n",
      " 7   rating       14526 non-null  float64            \n",
      " 8   title        14532 non-null  object             \n",
      " 9   ingredients  14532 non-null  object             \n",
      " 10  sodium       14531 non-null  float64            \n",
      "dtypes: datetime64[ns, UTC](1), float64(5), object(5)\n",
      "memory usage: 1.2+ MB\n"
     ]
    }
   ],
   "source": [
    "db3.info()"
   ]
  },
  {
   "cell_type": "code",
   "execution_count": 20,
   "metadata": {},
   "outputs": [
    {
     "data": {
      "image/png": "[encoded data removed]",
      "text/plain": [
       "<Figure size 432x288 with 1 Axes>"
      ]
     },
     "metadata": {},
     "output_type": "display_data"
    }
   ],
   "source": [
    "# Vamos a verificar como está a proporção de nulos logo de uma primeira limpeza\n",
    "# Caso mantenhamos o restante de valores nulos, teremos reducido de 10,6% a 3,1%\n",
    "totalNaN = db3.isna().sum().sum()\n",
    "totalNoNaN = db3.notnull().sum().sum()\n",
    "y = np.array([totalNoNaN,totalNaN])\n",
    "myexplode = [0,0.2]\n",
    "labels = [\"Valores não nulos\",\"Valores Nulos\"]\n",
    "plt.pie(y, labels=labels, explode=myexplode, shadow=True, autopct='%1.1f%%')\n",
    "plt.legend()\n",
    "plt.show();"
   ]
  },
  {
   "attachments": {},
   "cell_type": "markdown",
   "metadata": {},
   "source": [
    "## Destribuição"
   ]
  },
  {
   "cell_type": "code",
   "execution_count": 21,
   "metadata": {},
   "outputs": [
    {
     "data": {
      "text/html": [
       "<div>\n",
       "<style scoped>\n",
       "    .dataframe tbody tr th:only-of-type {\n",
       "        vertical-align: middle;\n",
       "    }\n",
       "\n",
       "    .dataframe tbody tr th {\n",
       "        vertical-align: top;\n",
       "    }\n",
       "\n",
       "    .dataframe thead th {\n",
       "        text-align: right;\n",
       "    }\n",
       "</style>\n",
       "<table border=\"1\" class=\"dataframe\">\n",
       "  <thead>\n",
       "    <tr style=\"text-align: right;\">\n",
       "      <th></th>\n",
       "      <th>fat</th>\n",
       "      <th>calories</th>\n",
       "      <th>protein</th>\n",
       "      <th>rating</th>\n",
       "      <th>sodium</th>\n",
       "    </tr>\n",
       "  </thead>\n",
       "  <tbody>\n",
       "    <tr>\n",
       "      <th>count</th>\n",
       "      <td>14479.00</td>\n",
       "      <td>14532.00</td>\n",
       "      <td>14499.00</td>\n",
       "      <td>14526.00</td>\n",
       "      <td>14531.00</td>\n",
       "    </tr>\n",
       "    <tr>\n",
       "      <th>mean</th>\n",
       "      <td>362.73</td>\n",
       "      <td>6609.49</td>\n",
       "      <td>92.07</td>\n",
       "      <td>3.76</td>\n",
       "      <td>6561.56</td>\n",
       "    </tr>\n",
       "    <tr>\n",
       "      <th>std</th>\n",
       "      <td>21336.31</td>\n",
       "      <td>374394.96</td>\n",
       "      <td>3508.24</td>\n",
       "      <td>1.29</td>\n",
       "      <td>348057.46</td>\n",
       "    </tr>\n",
       "    <tr>\n",
       "      <th>min</th>\n",
       "      <td>0.00</td>\n",
       "      <td>0.00</td>\n",
       "      <td>0.00</td>\n",
       "      <td>0.00</td>\n",
       "      <td>0.00</td>\n",
       "    </tr>\n",
       "    <tr>\n",
       "      <th>25%</th>\n",
       "      <td>8.00</td>\n",
       "      <td>205.00</td>\n",
       "      <td>3.00</td>\n",
       "      <td>3.75</td>\n",
       "      <td>88.00</td>\n",
       "    </tr>\n",
       "    <tr>\n",
       "      <th>50%</th>\n",
       "      <td>18.00</td>\n",
       "      <td>345.00</td>\n",
       "      <td>9.00</td>\n",
       "      <td>4.38</td>\n",
       "      <td>304.00</td>\n",
       "    </tr>\n",
       "    <tr>\n",
       "      <th>75%</th>\n",
       "      <td>34.00</td>\n",
       "      <td>599.00</td>\n",
       "      <td>28.00</td>\n",
       "      <td>4.38</td>\n",
       "      <td>732.00</td>\n",
       "    </tr>\n",
       "    <tr>\n",
       "      <th>max</th>\n",
       "      <td>1722763.00</td>\n",
       "      <td>30111218.00</td>\n",
       "      <td>236489.00</td>\n",
       "      <td>5.00</td>\n",
       "      <td>27675110.00</td>\n",
       "    </tr>\n",
       "  </tbody>\n",
       "</table>\n",
       "</div>"
      ],
      "text/plain": [
       "              fat     calories    protein    rating       sodium\n",
       "count    14479.00     14532.00   14499.00  14526.00     14531.00\n",
       "mean       362.73      6609.49      92.07      3.76      6561.56\n",
       "std      21336.31    374394.96    3508.24      1.29    348057.46\n",
       "min          0.00         0.00       0.00      0.00         0.00\n",
       "25%          8.00       205.00       3.00      3.75        88.00\n",
       "50%         18.00       345.00       9.00      4.38       304.00\n",
       "75%         34.00       599.00      28.00      4.38       732.00\n",
       "max    1722763.00  30111218.00  236489.00      5.00  27675110.00"
      ]
     },
     "execution_count": 21,
     "metadata": {},
     "output_type": "execute_result"
    }
   ],
   "source": [
    "## Vamos a utilizar a db limpa, ja que mostrará uma distruição mais limpa e sem ser afetada significativamente por nulls\n",
    "# Agora como vemos, existem valores máximos muito superiores a aqueles que reseprentam 75% da mostra, e existem valores 0, que sim é possivel ter alimentos com 0 em todas as variaveis \n",
    "# nutricionais, só não ao mesmo tempo.\n",
    "\n",
    "db3.describe().round(2)\n",
    "\n",
    "# Pelo que podemos ver os valores máximos acima do 75% da mostra estão afetando a desviação standard"
   ]
  },
  {
   "cell_type": "code",
   "execution_count": 22,
   "metadata": {},
   "outputs": [
    {
     "data": {
      "text/html": [
       "<div>\n",
       "<style scoped>\n",
       "    .dataframe tbody tr th:only-of-type {\n",
       "        vertical-align: middle;\n",
       "    }\n",
       "\n",
       "    .dataframe tbody tr th {\n",
       "        vertical-align: top;\n",
       "    }\n",
       "\n",
       "    .dataframe thead th {\n",
       "        text-align: right;\n",
       "    }\n",
       "</style>\n",
       "<table border=\"1\" class=\"dataframe\">\n",
       "  <thead>\n",
       "    <tr style=\"text-align: right;\">\n",
       "      <th></th>\n",
       "      <th>fat</th>\n",
       "      <th>calories</th>\n",
       "      <th>protein</th>\n",
       "      <th>rating</th>\n",
       "      <th>sodium</th>\n",
       "    </tr>\n",
       "  </thead>\n",
       "  <tbody>\n",
       "    <tr>\n",
       "      <th>count</th>\n",
       "      <td>9594.00</td>\n",
       "      <td>9594.00</td>\n",
       "      <td>9594.00</td>\n",
       "      <td>9594.00</td>\n",
       "      <td>9594.00</td>\n",
       "    </tr>\n",
       "    <tr>\n",
       "      <th>mean</th>\n",
       "      <td>417.28</td>\n",
       "      <td>7707.21</td>\n",
       "      <td>108.22</td>\n",
       "      <td>3.81</td>\n",
       "      <td>7657.34</td>\n",
       "    </tr>\n",
       "    <tr>\n",
       "      <th>std</th>\n",
       "      <td>24931.71</td>\n",
       "      <td>438397.35</td>\n",
       "      <td>4135.13</td>\n",
       "      <td>1.25</td>\n",
       "      <td>407415.85</td>\n",
       "    </tr>\n",
       "    <tr>\n",
       "      <th>min</th>\n",
       "      <td>0.00</td>\n",
       "      <td>0.00</td>\n",
       "      <td>0.00</td>\n",
       "      <td>0.00</td>\n",
       "      <td>0.00</td>\n",
       "    </tr>\n",
       "    <tr>\n",
       "      <th>25%</th>\n",
       "      <td>9.00</td>\n",
       "      <td>214.00</td>\n",
       "      <td>4.00</td>\n",
       "      <td>3.75</td>\n",
       "      <td>109.00</td>\n",
       "    </tr>\n",
       "    <tr>\n",
       "      <th>50%</th>\n",
       "      <td>19.00</td>\n",
       "      <td>367.00</td>\n",
       "      <td>10.00</td>\n",
       "      <td>4.38</td>\n",
       "      <td>339.00</td>\n",
       "    </tr>\n",
       "    <tr>\n",
       "      <th>75%</th>\n",
       "      <td>36.00</td>\n",
       "      <td>627.00</td>\n",
       "      <td>31.00</td>\n",
       "      <td>4.38</td>\n",
       "      <td>788.75</td>\n",
       "    </tr>\n",
       "    <tr>\n",
       "      <th>max</th>\n",
       "      <td>1722763.00</td>\n",
       "      <td>30111218.00</td>\n",
       "      <td>236489.00</td>\n",
       "      <td>5.00</td>\n",
       "      <td>27675110.00</td>\n",
       "    </tr>\n",
       "  </tbody>\n",
       "</table>\n",
       "</div>"
      ],
      "text/plain": [
       "              fat     calories    protein   rating       sodium\n",
       "count     9594.00      9594.00    9594.00  9594.00      9594.00\n",
       "mean       417.28      7707.21     108.22     3.81      7657.34\n",
       "std      24931.71    438397.35    4135.13     1.25    407415.85\n",
       "min          0.00         0.00       0.00     0.00         0.00\n",
       "25%          9.00       214.00       4.00     3.75       109.00\n",
       "50%         19.00       367.00      10.00     4.38       339.00\n",
       "75%         36.00       627.00      31.00     4.38       788.75\n",
       "max    1722763.00  30111218.00  236489.00     5.00  27675110.00"
      ]
     },
     "execution_count": 22,
     "metadata": {},
     "output_type": "execute_result"
    }
   ],
   "source": [
    "# Vamos a verificar como sería a diferença caso retirassemos todos os nulls\n",
    "\n",
    "db3.dropna(how='any').describe().round(2)\n",
    "\n",
    "# Como podemos ver não a muita diferença, então vamos manter a estrategia aplicada no seção anterior quando trabalhamos os nulls"
   ]
  },
  {
   "cell_type": "code",
   "execution_count": 23,
   "metadata": {},
   "outputs": [
    {
     "data": {
      "text/html": [
       "<div>\n",
       "<style scoped>\n",
       "    .dataframe tbody tr th:only-of-type {\n",
       "        vertical-align: middle;\n",
       "    }\n",
       "\n",
       "    .dataframe tbody tr th {\n",
       "        vertical-align: top;\n",
       "    }\n",
       "\n",
       "    .dataframe thead th {\n",
       "        text-align: right;\n",
       "    }\n",
       "</style>\n",
       "<table border=\"1\" class=\"dataframe\">\n",
       "  <thead>\n",
       "    <tr style=\"text-align: right;\">\n",
       "      <th></th>\n",
       "      <th>directions</th>\n",
       "      <th>fat</th>\n",
       "      <th>date</th>\n",
       "      <th>categories</th>\n",
       "      <th>calories</th>\n",
       "      <th>desc</th>\n",
       "      <th>protein</th>\n",
       "      <th>rating</th>\n",
       "      <th>title</th>\n",
       "      <th>ingredients</th>\n",
       "      <th>sodium</th>\n",
       "    </tr>\n",
       "  </thead>\n",
       "  <tbody>\n",
       "    <tr>\n",
       "      <th>8626</th>\n",
       "      <td>[Stir together all ingredients except pastry d...</td>\n",
       "      <td>1722763.0</td>\n",
       "      <td>2006-10-20 15:17:12+00:00</td>\n",
       "      <td>[Berry, Fruit, Nut, Dessert, Bake, Christmas, ...</td>\n",
       "      <td>30111218.0</td>\n",
       "      <td>Don't be nervous about making meatless minceme...</td>\n",
       "      <td>200968.0</td>\n",
       "      <td>4.375</td>\n",
       "      <td>Pear-Cranberry Mincemeat Lattice Pie</td>\n",
       "      <td>[2 firm-ripe Anjou pears, peeled, cored, and f...</td>\n",
       "      <td>27675110.0</td>\n",
       "    </tr>\n",
       "    <tr>\n",
       "      <th>4942</th>\n",
       "      <td>[Put a large baking sheet on oven rack in midd...</td>\n",
       "      <td>1716279.0</td>\n",
       "      <td>2006-07-20 20:48:24+00:00</td>\n",
       "      <td>[Egg, Fruit, Bake, Blueberry, Summer, Tapioca,...</td>\n",
       "      <td>29997918.0</td>\n",
       "      <td>If you've never had pie made from wild blueber...</td>\n",
       "      <td>200210.0</td>\n",
       "      <td>4.375</td>\n",
       "      <td>Deep-Dish Wild Blueberry Pie</td>\n",
       "      <td>[1 1/4 cups packed light brown sugar, 5 tables...</td>\n",
       "      <td>27570999.0</td>\n",
       "    </tr>\n",
       "    <tr>\n",
       "      <th>14277</th>\n",
       "      <td>[Position rack in center of oven and preheat t...</td>\n",
       "      <td>747374.0</td>\n",
       "      <td>2004-08-20 04:00:00+00:00</td>\n",
       "      <td>[Berry, Fruit, Nut, Dessert, Bake, Thanksgivin...</td>\n",
       "      <td>13062948.0</td>\n",
       "      <td>None</td>\n",
       "      <td>87188.0</td>\n",
       "      <td>4.375</td>\n",
       "      <td>Apricot, Cranberry and Walnut Pie</td>\n",
       "      <td>[1 cup (packed) golden brown sugar, 2 large eg...</td>\n",
       "      <td>12005810.0</td>\n",
       "    </tr>\n",
       "    <tr>\n",
       "      <th>1032</th>\n",
       "      <td>[Wash rice in several changes of cold water in...</td>\n",
       "      <td>221495.0</td>\n",
       "      <td>2007-08-24 18:04:29+00:00</td>\n",
       "      <td>[Lamb, Rice, Vegetable, Braise, Dinner, Raisin...</td>\n",
       "      <td>4157357.0</td>\n",
       "      <td>This lamb-rich, Uzbek-style pilaf is typical o...</td>\n",
       "      <td>236489.0</td>\n",
       "      <td>5.000</td>\n",
       "      <td>Rice Pilaf with Lamb, Carrots, and Raisins</td>\n",
       "      <td>[3 cups basmati rice (7 ounces), 1 medium onio...</td>\n",
       "      <td>3134853.0</td>\n",
       "    </tr>\n",
       "    <tr>\n",
       "      <th>5344</th>\n",
       "      <td>[Position rack in center of oven and preheat t...</td>\n",
       "      <td>186660.0</td>\n",
       "      <td>2004-08-20 04:00:00+00:00</td>\n",
       "      <td>[Chocolate, Nut, Dessert, Bake, Christmas, Tha...</td>\n",
       "      <td>3358273.0</td>\n",
       "      <td>None</td>\n",
       "      <td>58334.0</td>\n",
       "      <td>3.125</td>\n",
       "      <td>Chocolate-Almond Pie</td>\n",
       "      <td>[4 ounces bittersweet (not unsweetened) or sem...</td>\n",
       "      <td>3449512.0</td>\n",
       "    </tr>\n",
       "    <tr>\n",
       "      <th>4020</th>\n",
       "      <td>[Position rack in center of oven and preheat t...</td>\n",
       "      <td>186642.0</td>\n",
       "      <td>2004-08-20 04:00:00+00:00</td>\n",
       "      <td>[Fruit, Dessert, Bake, Christmas, Thanksgiving...</td>\n",
       "      <td>3358029.0</td>\n",
       "      <td>None</td>\n",
       "      <td>58324.0</td>\n",
       "      <td>3.125</td>\n",
       "      <td>Caramelized Apple and Pear Pie</td>\n",
       "      <td>[1/2 cup applejack brandy or brandy, 1/2 cup d...</td>\n",
       "      <td>3449373.0</td>\n",
       "    </tr>\n",
       "    <tr>\n",
       "      <th>2338</th>\n",
       "      <td>[Soak bread in water to cover 30 minutes, then...</td>\n",
       "      <td>44198.0</td>\n",
       "      <td>2008-05-12 21:04:07+00:00</td>\n",
       "      <td>[Food Processor, Backyard BBQ, Ground Lamb, Sp...</td>\n",
       "      <td>4518216.0</td>\n",
       "      <td>Köfte are a street-food favorite in the Middle...</td>\n",
       "      <td>166471.0</td>\n",
       "      <td>5.000</td>\n",
       "      <td>Lamb Köfte with Tarator Sauce</td>\n",
       "      <td>[3 slices firm white sandwich bread, torn into...</td>\n",
       "      <td>7540990.0</td>\n",
       "    </tr>\n",
       "    <tr>\n",
       "      <th>6293</th>\n",
       "      <td>[Prepare grill for direct-heat cooking over me...</td>\n",
       "      <td>2228.0</td>\n",
       "      <td>2009-04-14 04:00:00+00:00</td>\n",
       "      <td>[Lamb, Mushroom, Mustard, Quick &amp; Easy, Father...</td>\n",
       "      <td>24117.0</td>\n",
       "      <td>Rubbed all over with a mixture of garlic, fres...</td>\n",
       "      <td>940.0</td>\n",
       "      <td>5.000</td>\n",
       "      <td>Grilled Lamb Chops with Porcini Mustard</td>\n",
       "      <td>[2 ounces dried porcini mushrooms, 2 cups boil...</td>\n",
       "      <td>4382.0</td>\n",
       "    </tr>\n",
       "    <tr>\n",
       "      <th>2582</th>\n",
       "      <td>[Stir flour and allspice in medium bowl to ble...</td>\n",
       "      <td>1818.0</td>\n",
       "      <td>2004-08-20 04:00:00+00:00</td>\n",
       "      <td>[Beef, Braise, Beef Rib, Red Wine, Fall, Bon A...</td>\n",
       "      <td>19576.0</td>\n",
       "      <td>Tiring of the ultra-refined nouvelle cuisine t...</td>\n",
       "      <td>723.0</td>\n",
       "      <td>3.750</td>\n",
       "      <td>Braised Short Ribs with Red Wine Gravy</td>\n",
       "      <td>[1/4 cup all-purpose flour, 1 teaspoon (genero...</td>\n",
       "      <td>2950.0</td>\n",
       "    </tr>\n",
       "    <tr>\n",
       "      <th>7974</th>\n",
       "      <td>[Put oven racks in upper and lower thirds of o...</td>\n",
       "      <td>1610.0</td>\n",
       "      <td>2004-08-20 04:00:00+00:00</td>\n",
       "      <td>[Duck, Onion, Poultry, Braise, Roast, Christma...</td>\n",
       "      <td>16761.0</td>\n",
       "      <td>We used chef Fergus Henderson's technique for ...</td>\n",
       "      <td>477.0</td>\n",
       "      <td>4.375</td>\n",
       "      <td>Braised Duck Legs with Shallots and Parsnips</td>\n",
       "      <td>[12 fresh duck legs (7 to 11 lb depending on a...</td>\n",
       "      <td>3097.0</td>\n",
       "    </tr>\n",
       "  </tbody>\n",
       "</table>\n",
       "</div>"
      ],
      "text/plain": [
       "                                              directions        fat  \\\n",
       "8626   [Stir together all ingredients except pastry d...  1722763.0   \n",
       "4942   [Put a large baking sheet on oven rack in midd...  1716279.0   \n",
       "14277  [Position rack in center of oven and preheat t...   747374.0   \n",
       "1032   [Wash rice in several changes of cold water in...   221495.0   \n",
       "5344   [Position rack in center of oven and preheat t...   186660.0   \n",
       "4020   [Position rack in center of oven and preheat t...   186642.0   \n",
       "2338   [Soak bread in water to cover 30 minutes, then...    44198.0   \n",
       "6293   [Prepare grill for direct-heat cooking over me...     2228.0   \n",
       "2582   [Stir flour and allspice in medium bowl to ble...     1818.0   \n",
       "7974   [Put oven racks in upper and lower thirds of o...     1610.0   \n",
       "\n",
       "                           date  \\\n",
       "8626  2006-10-20 15:17:12+00:00   \n",
       "4942  2006-07-20 20:48:24+00:00   \n",
       "14277 2004-08-20 04:00:00+00:00   \n",
       "1032  2007-08-24 18:04:29+00:00   \n",
       "5344  2004-08-20 04:00:00+00:00   \n",
       "4020  2004-08-20 04:00:00+00:00   \n",
       "2338  2008-05-12 21:04:07+00:00   \n",
       "6293  2009-04-14 04:00:00+00:00   \n",
       "2582  2004-08-20 04:00:00+00:00   \n",
       "7974  2004-08-20 04:00:00+00:00   \n",
       "\n",
       "                                              categories    calories  \\\n",
       "8626   [Berry, Fruit, Nut, Dessert, Bake, Christmas, ...  30111218.0   \n",
       "4942   [Egg, Fruit, Bake, Blueberry, Summer, Tapioca,...  29997918.0   \n",
       "14277  [Berry, Fruit, Nut, Dessert, Bake, Thanksgivin...  13062948.0   \n",
       "1032   [Lamb, Rice, Vegetable, Braise, Dinner, Raisin...   4157357.0   \n",
       "5344   [Chocolate, Nut, Dessert, Bake, Christmas, Tha...   3358273.0   \n",
       "4020   [Fruit, Dessert, Bake, Christmas, Thanksgiving...   3358029.0   \n",
       "2338   [Food Processor, Backyard BBQ, Ground Lamb, Sp...   4518216.0   \n",
       "6293   [Lamb, Mushroom, Mustard, Quick & Easy, Father...     24117.0   \n",
       "2582   [Beef, Braise, Beef Rib, Red Wine, Fall, Bon A...     19576.0   \n",
       "7974   [Duck, Onion, Poultry, Braise, Roast, Christma...     16761.0   \n",
       "\n",
       "                                                    desc   protein  rating  \\\n",
       "8626   Don't be nervous about making meatless minceme...  200968.0   4.375   \n",
       "4942   If you've never had pie made from wild blueber...  200210.0   4.375   \n",
       "14277                                               None   87188.0   4.375   \n",
       "1032   This lamb-rich, Uzbek-style pilaf is typical o...  236489.0   5.000   \n",
       "5344                                                None   58334.0   3.125   \n",
       "4020                                                None   58324.0   3.125   \n",
       "2338   Köfte are a street-food favorite in the Middle...  166471.0   5.000   \n",
       "6293   Rubbed all over with a mixture of garlic, fres...     940.0   5.000   \n",
       "2582   Tiring of the ultra-refined nouvelle cuisine t...     723.0   3.750   \n",
       "7974   We used chef Fergus Henderson's technique for ...     477.0   4.375   \n",
       "\n",
       "                                               title  \\\n",
       "8626           Pear-Cranberry Mincemeat Lattice Pie    \n",
       "4942                   Deep-Dish Wild Blueberry Pie    \n",
       "14277             Apricot, Cranberry and Walnut Pie    \n",
       "1032     Rice Pilaf with Lamb, Carrots, and Raisins    \n",
       "5344                           Chocolate-Almond Pie    \n",
       "4020                 Caramelized Apple and Pear Pie    \n",
       "2338                  Lamb Köfte with Tarator Sauce    \n",
       "6293        Grilled Lamb Chops with Porcini Mustard    \n",
       "2582         Braised Short Ribs with Red Wine Gravy    \n",
       "7974   Braised Duck Legs with Shallots and Parsnips    \n",
       "\n",
       "                                             ingredients      sodium  \n",
       "8626   [2 firm-ripe Anjou pears, peeled, cored, and f...  27675110.0  \n",
       "4942   [1 1/4 cups packed light brown sugar, 5 tables...  27570999.0  \n",
       "14277  [1 cup (packed) golden brown sugar, 2 large eg...  12005810.0  \n",
       "1032   [3 cups basmati rice (7 ounces), 1 medium onio...   3134853.0  \n",
       "5344   [4 ounces bittersweet (not unsweetened) or sem...   3449512.0  \n",
       "4020   [1/2 cup applejack brandy or brandy, 1/2 cup d...   3449373.0  \n",
       "2338   [3 slices firm white sandwich bread, torn into...   7540990.0  \n",
       "6293   [2 ounces dried porcini mushrooms, 2 cups boil...      4382.0  \n",
       "2582   [1/4 cup all-purpose flour, 1 teaspoon (genero...      2950.0  \n",
       "7974   [12 fresh duck legs (7 to 11 lb depending on a...      3097.0  "
      ]
     },
     "execution_count": 23,
     "metadata": {},
     "output_type": "execute_result"
    }
   ],
   "source": [
    "# Como vemos os valores máximos, podemos detectar alguns outliers\n",
    "\n",
    "db3.sort_values(by=['fat','calories','protein','sodium'],ascending=False).head(10)\n",
    "\n",
    "# A partir do head 7 vemos uma disparidade muito elevada entre os valores nutricionais\n",
    "# Não todo outlier, é necesariamente um erro no momento de input, podem ser receitas realmente com altos valores nutricionais e para um grande numero de pessoas."
   ]
  },
  {
   "cell_type": "code",
   "execution_count": 24,
   "metadata": {},
   "outputs": [],
   "source": [
    "# Mesmo assim, para observar as distribuições e as estatísticas, interfere porque são casos muito isolados (7 em mais de 14mil, menor ao 0.0005%). Então vamos a gerar uma nova database sem\n",
    "# estes outliers.\n",
    "db4 = db3.copy()"
   ]
  },
  {
   "cell_type": "code",
   "execution_count": 25,
   "metadata": {},
   "outputs": [
    {
     "data": {
      "text/html": [
       "<div>\n",
       "<style scoped>\n",
       "    .dataframe tbody tr th:only-of-type {\n",
       "        vertical-align: middle;\n",
       "    }\n",
       "\n",
       "    .dataframe tbody tr th {\n",
       "        vertical-align: top;\n",
       "    }\n",
       "\n",
       "    .dataframe thead th {\n",
       "        text-align: right;\n",
       "    }\n",
       "</style>\n",
       "<table border=\"1\" class=\"dataframe\">\n",
       "  <thead>\n",
       "    <tr style=\"text-align: right;\">\n",
       "      <th></th>\n",
       "      <th>directions</th>\n",
       "      <th>fat</th>\n",
       "      <th>date</th>\n",
       "      <th>categories</th>\n",
       "      <th>calories</th>\n",
       "      <th>desc</th>\n",
       "      <th>protein</th>\n",
       "      <th>rating</th>\n",
       "      <th>title</th>\n",
       "      <th>ingredients</th>\n",
       "      <th>sodium</th>\n",
       "    </tr>\n",
       "  </thead>\n",
       "  <tbody>\n",
       "    <tr>\n",
       "      <th>8626</th>\n",
       "      <td>[Stir together all ingredients except pastry d...</td>\n",
       "      <td>1722763.0</td>\n",
       "      <td>2006-10-20 15:17:12+00:00</td>\n",
       "      <td>[Berry, Fruit, Nut, Dessert, Bake, Christmas, ...</td>\n",
       "      <td>30111218.0</td>\n",
       "      <td>Don't be nervous about making meatless minceme...</td>\n",
       "      <td>200968.0</td>\n",
       "      <td>4.375</td>\n",
       "      <td>Pear-Cranberry Mincemeat Lattice Pie</td>\n",
       "      <td>[2 firm-ripe Anjou pears, peeled, cored, and f...</td>\n",
       "      <td>27675110.0</td>\n",
       "    </tr>\n",
       "    <tr>\n",
       "      <th>4942</th>\n",
       "      <td>[Put a large baking sheet on oven rack in midd...</td>\n",
       "      <td>1716279.0</td>\n",
       "      <td>2006-07-20 20:48:24+00:00</td>\n",
       "      <td>[Egg, Fruit, Bake, Blueberry, Summer, Tapioca,...</td>\n",
       "      <td>29997918.0</td>\n",
       "      <td>If you've never had pie made from wild blueber...</td>\n",
       "      <td>200210.0</td>\n",
       "      <td>4.375</td>\n",
       "      <td>Deep-Dish Wild Blueberry Pie</td>\n",
       "      <td>[1 1/4 cups packed light brown sugar, 5 tables...</td>\n",
       "      <td>27570999.0</td>\n",
       "    </tr>\n",
       "    <tr>\n",
       "      <th>14277</th>\n",
       "      <td>[Position rack in center of oven and preheat t...</td>\n",
       "      <td>747374.0</td>\n",
       "      <td>2004-08-20 04:00:00+00:00</td>\n",
       "      <td>[Berry, Fruit, Nut, Dessert, Bake, Thanksgivin...</td>\n",
       "      <td>13062948.0</td>\n",
       "      <td>None</td>\n",
       "      <td>87188.0</td>\n",
       "      <td>4.375</td>\n",
       "      <td>Apricot, Cranberry and Walnut Pie</td>\n",
       "      <td>[1 cup (packed) golden brown sugar, 2 large eg...</td>\n",
       "      <td>12005810.0</td>\n",
       "    </tr>\n",
       "    <tr>\n",
       "      <th>2338</th>\n",
       "      <td>[Soak bread in water to cover 30 minutes, then...</td>\n",
       "      <td>44198.0</td>\n",
       "      <td>2008-05-12 21:04:07+00:00</td>\n",
       "      <td>[Food Processor, Backyard BBQ, Ground Lamb, Sp...</td>\n",
       "      <td>4518216.0</td>\n",
       "      <td>Köfte are a street-food favorite in the Middle...</td>\n",
       "      <td>166471.0</td>\n",
       "      <td>5.000</td>\n",
       "      <td>Lamb Köfte with Tarator Sauce</td>\n",
       "      <td>[3 slices firm white sandwich bread, torn into...</td>\n",
       "      <td>7540990.0</td>\n",
       "    </tr>\n",
       "    <tr>\n",
       "      <th>5344</th>\n",
       "      <td>[Position rack in center of oven and preheat t...</td>\n",
       "      <td>186660.0</td>\n",
       "      <td>2004-08-20 04:00:00+00:00</td>\n",
       "      <td>[Chocolate, Nut, Dessert, Bake, Christmas, Tha...</td>\n",
       "      <td>3358273.0</td>\n",
       "      <td>None</td>\n",
       "      <td>58334.0</td>\n",
       "      <td>3.125</td>\n",
       "      <td>Chocolate-Almond Pie</td>\n",
       "      <td>[4 ounces bittersweet (not unsweetened) or sem...</td>\n",
       "      <td>3449512.0</td>\n",
       "    </tr>\n",
       "    <tr>\n",
       "      <th>4020</th>\n",
       "      <td>[Position rack in center of oven and preheat t...</td>\n",
       "      <td>186642.0</td>\n",
       "      <td>2004-08-20 04:00:00+00:00</td>\n",
       "      <td>[Fruit, Dessert, Bake, Christmas, Thanksgiving...</td>\n",
       "      <td>3358029.0</td>\n",
       "      <td>None</td>\n",
       "      <td>58324.0</td>\n",
       "      <td>3.125</td>\n",
       "      <td>Caramelized Apple and Pear Pie</td>\n",
       "      <td>[1/2 cup applejack brandy or brandy, 1/2 cup d...</td>\n",
       "      <td>3449373.0</td>\n",
       "    </tr>\n",
       "    <tr>\n",
       "      <th>1032</th>\n",
       "      <td>[Wash rice in several changes of cold water in...</td>\n",
       "      <td>221495.0</td>\n",
       "      <td>2007-08-24 18:04:29+00:00</td>\n",
       "      <td>[Lamb, Rice, Vegetable, Braise, Dinner, Raisin...</td>\n",
       "      <td>4157357.0</td>\n",
       "      <td>This lamb-rich, Uzbek-style pilaf is typical o...</td>\n",
       "      <td>236489.0</td>\n",
       "      <td>5.000</td>\n",
       "      <td>Rice Pilaf with Lamb, Carrots, and Raisins</td>\n",
       "      <td>[3 cups basmati rice (7 ounces), 1 medium onio...</td>\n",
       "      <td>3134853.0</td>\n",
       "    </tr>\n",
       "    <tr>\n",
       "      <th>2577</th>\n",
       "      <td>[Preheat oven to 400°F. Stir salt and 5 egg wh...</td>\n",
       "      <td>20.0</td>\n",
       "      <td>2007-01-18 04:46:01+00:00</td>\n",
       "      <td>[Salad, Egg, Fish, Olive, Bake, Roast, Bass, C...</td>\n",
       "      <td>417.0</td>\n",
       "      <td>Roasting the fish in salt makes it very moist ...</td>\n",
       "      <td>53.0</td>\n",
       "      <td>5.000</td>\n",
       "      <td>Whole Branzino Roasted in Salt</td>\n",
       "      <td>[1 3-pound box coarse kosher salt, 5 (or more)...</td>\n",
       "      <td>132220.0</td>\n",
       "    </tr>\n",
       "    <tr>\n",
       "      <th>11966</th>\n",
       "      <td>[Preheat oven to 400°F. Toss tomatoes, bell pe...</td>\n",
       "      <td>20.0</td>\n",
       "      <td>2004-08-20 04:00:00+00:00</td>\n",
       "      <td>[Fish, Pepper, Tomato, Appetizer, Bake, Christ...</td>\n",
       "      <td>425.0</td>\n",
       "      <td>The salt creates a seal around the fish, which...</td>\n",
       "      <td>49.0</td>\n",
       "      <td>4.375</td>\n",
       "      <td>Red Snapper Baked in Salt with Romesco Sauce</td>\n",
       "      <td>[3 large plum tomatoes, 2 large red bell peppe...</td>\n",
       "      <td>132025.0</td>\n",
       "    </tr>\n",
       "    <tr>\n",
       "      <th>8062</th>\n",
       "      <td>[Preheat oven to 500°F., Bring a 6- to 8-quart...</td>\n",
       "      <td>24.0</td>\n",
       "      <td>2004-08-20 04:00:00+00:00</td>\n",
       "      <td>[Herb, Bake, Bacon, Oyster, Leek, Spinach, Fal...</td>\n",
       "      <td>443.0</td>\n",
       "      <td>Stitt likes to use rock salt — the kind used f...</td>\n",
       "      <td>29.0</td>\n",
       "      <td>0.000</td>\n",
       "      <td>Baked Oysters with Bacon</td>\n",
       "      <td>[1/4 cup kosher salt, 2 (10-ounce) bags fresh ...</td>\n",
       "      <td>116178.0</td>\n",
       "    </tr>\n",
       "  </tbody>\n",
       "</table>\n",
       "</div>"
      ],
      "text/plain": [
       "                                              directions        fat  \\\n",
       "8626   [Stir together all ingredients except pastry d...  1722763.0   \n",
       "4942   [Put a large baking sheet on oven rack in midd...  1716279.0   \n",
       "14277  [Position rack in center of oven and preheat t...   747374.0   \n",
       "2338   [Soak bread in water to cover 30 minutes, then...    44198.0   \n",
       "5344   [Position rack in center of oven and preheat t...   186660.0   \n",
       "4020   [Position rack in center of oven and preheat t...   186642.0   \n",
       "1032   [Wash rice in several changes of cold water in...   221495.0   \n",
       "2577   [Preheat oven to 400°F. Stir salt and 5 egg wh...       20.0   \n",
       "11966  [Preheat oven to 400°F. Toss tomatoes, bell pe...       20.0   \n",
       "8062   [Preheat oven to 500°F., Bring a 6- to 8-quart...       24.0   \n",
       "\n",
       "                           date  \\\n",
       "8626  2006-10-20 15:17:12+00:00   \n",
       "4942  2006-07-20 20:48:24+00:00   \n",
       "14277 2004-08-20 04:00:00+00:00   \n",
       "2338  2008-05-12 21:04:07+00:00   \n",
       "5344  2004-08-20 04:00:00+00:00   \n",
       "4020  2004-08-20 04:00:00+00:00   \n",
       "1032  2007-08-24 18:04:29+00:00   \n",
       "2577  2007-01-18 04:46:01+00:00   \n",
       "11966 2004-08-20 04:00:00+00:00   \n",
       "8062  2004-08-20 04:00:00+00:00   \n",
       "\n",
       "                                              categories    calories  \\\n",
       "8626   [Berry, Fruit, Nut, Dessert, Bake, Christmas, ...  30111218.0   \n",
       "4942   [Egg, Fruit, Bake, Blueberry, Summer, Tapioca,...  29997918.0   \n",
       "14277  [Berry, Fruit, Nut, Dessert, Bake, Thanksgivin...  13062948.0   \n",
       "2338   [Food Processor, Backyard BBQ, Ground Lamb, Sp...   4518216.0   \n",
       "5344   [Chocolate, Nut, Dessert, Bake, Christmas, Tha...   3358273.0   \n",
       "4020   [Fruit, Dessert, Bake, Christmas, Thanksgiving...   3358029.0   \n",
       "1032   [Lamb, Rice, Vegetable, Braise, Dinner, Raisin...   4157357.0   \n",
       "2577   [Salad, Egg, Fish, Olive, Bake, Roast, Bass, C...       417.0   \n",
       "11966  [Fish, Pepper, Tomato, Appetizer, Bake, Christ...       425.0   \n",
       "8062   [Herb, Bake, Bacon, Oyster, Leek, Spinach, Fal...       443.0   \n",
       "\n",
       "                                                    desc   protein  rating  \\\n",
       "8626   Don't be nervous about making meatless minceme...  200968.0   4.375   \n",
       "4942   If you've never had pie made from wild blueber...  200210.0   4.375   \n",
       "14277                                               None   87188.0   4.375   \n",
       "2338   Köfte are a street-food favorite in the Middle...  166471.0   5.000   \n",
       "5344                                                None   58334.0   3.125   \n",
       "4020                                                None   58324.0   3.125   \n",
       "1032   This lamb-rich, Uzbek-style pilaf is typical o...  236489.0   5.000   \n",
       "2577   Roasting the fish in salt makes it very moist ...      53.0   5.000   \n",
       "11966  The salt creates a seal around the fish, which...      49.0   4.375   \n",
       "8062   Stitt likes to use rock salt — the kind used f...      29.0   0.000   \n",
       "\n",
       "                                               title  \\\n",
       "8626           Pear-Cranberry Mincemeat Lattice Pie    \n",
       "4942                   Deep-Dish Wild Blueberry Pie    \n",
       "14277             Apricot, Cranberry and Walnut Pie    \n",
       "2338                  Lamb Köfte with Tarator Sauce    \n",
       "5344                           Chocolate-Almond Pie    \n",
       "4020                 Caramelized Apple and Pear Pie    \n",
       "1032     Rice Pilaf with Lamb, Carrots, and Raisins    \n",
       "2577                 Whole Branzino Roasted in Salt    \n",
       "11966  Red Snapper Baked in Salt with Romesco Sauce    \n",
       "8062                       Baked Oysters with Bacon    \n",
       "\n",
       "                                             ingredients      sodium  \n",
       "8626   [2 firm-ripe Anjou pears, peeled, cored, and f...  27675110.0  \n",
       "4942   [1 1/4 cups packed light brown sugar, 5 tables...  27570999.0  \n",
       "14277  [1 cup (packed) golden brown sugar, 2 large eg...  12005810.0  \n",
       "2338   [3 slices firm white sandwich bread, torn into...   7540990.0  \n",
       "5344   [4 ounces bittersweet (not unsweetened) or sem...   3449512.0  \n",
       "4020   [1/2 cup applejack brandy or brandy, 1/2 cup d...   3449373.0  \n",
       "1032   [3 cups basmati rice (7 ounces), 1 medium onio...   3134853.0  \n",
       "2577   [1 3-pound box coarse kosher salt, 5 (or more)...    132220.0  \n",
       "11966  [3 large plum tomatoes, 2 large red bell peppe...    132025.0  \n",
       "8062   [1/4 cup kosher salt, 2 (10-ounce) bags fresh ...    116178.0  "
      ]
     },
     "execution_count": 25,
     "metadata": {},
     "output_type": "execute_result"
    }
   ],
   "source": [
    "#db4.sort_values(by=['fat'],ascending=False).head(10)\n",
    "#db4.sort_values(by=['calories'],ascending=False).head(10)\n",
    "#db4.sort_values(by=['protein'],ascending=False).head(10)\n",
    "db4.sort_values(by=['sodium'],ascending=False).head(10)"
   ]
  },
  {
   "cell_type": "code",
   "execution_count": 26,
   "metadata": {},
   "outputs": [],
   "source": [
    "db4 = db4[db4['fat'] < 44198.0]\n",
    "db4 = db4[db4['calories'] < 3358029.0]\n",
    "db4 = db4[db4['protein'] < 58324.0]\n",
    "db4 = db4[db4['protein'] < 3134853.0]"
   ]
  },
  {
   "cell_type": "code",
   "execution_count": 27,
   "metadata": {},
   "outputs": [
    {
     "data": {
      "text/html": [
       "<div>\n",
       "<style scoped>\n",
       "    .dataframe tbody tr th:only-of-type {\n",
       "        vertical-align: middle;\n",
       "    }\n",
       "\n",
       "    .dataframe tbody tr th {\n",
       "        vertical-align: top;\n",
       "    }\n",
       "\n",
       "    .dataframe thead th {\n",
       "        text-align: right;\n",
       "    }\n",
       "</style>\n",
       "<table border=\"1\" class=\"dataframe\">\n",
       "  <thead>\n",
       "    <tr style=\"text-align: right;\">\n",
       "      <th></th>\n",
       "      <th>directions</th>\n",
       "      <th>fat</th>\n",
       "      <th>date</th>\n",
       "      <th>categories</th>\n",
       "      <th>calories</th>\n",
       "      <th>desc</th>\n",
       "      <th>protein</th>\n",
       "      <th>rating</th>\n",
       "      <th>title</th>\n",
       "      <th>ingredients</th>\n",
       "      <th>sodium</th>\n",
       "    </tr>\n",
       "  </thead>\n",
       "  <tbody>\n",
       "    <tr>\n",
       "      <th>2577</th>\n",
       "      <td>[Preheat oven to 400°F. Stir salt and 5 egg wh...</td>\n",
       "      <td>20.0</td>\n",
       "      <td>2007-01-18 04:46:01+00:00</td>\n",
       "      <td>[Salad, Egg, Fish, Olive, Bake, Roast, Bass, C...</td>\n",
       "      <td>417.0</td>\n",
       "      <td>Roasting the fish in salt makes it very moist ...</td>\n",
       "      <td>53.0</td>\n",
       "      <td>5.000</td>\n",
       "      <td>Whole Branzino Roasted in Salt</td>\n",
       "      <td>[1 3-pound box coarse kosher salt, 5 (or more)...</td>\n",
       "      <td>132220.0</td>\n",
       "    </tr>\n",
       "    <tr>\n",
       "      <th>11966</th>\n",
       "      <td>[Preheat oven to 400°F. Toss tomatoes, bell pe...</td>\n",
       "      <td>20.0</td>\n",
       "      <td>2004-08-20 04:00:00+00:00</td>\n",
       "      <td>[Fish, Pepper, Tomato, Appetizer, Bake, Christ...</td>\n",
       "      <td>425.0</td>\n",
       "      <td>The salt creates a seal around the fish, which...</td>\n",
       "      <td>49.0</td>\n",
       "      <td>4.375</td>\n",
       "      <td>Red Snapper Baked in Salt with Romesco Sauce</td>\n",
       "      <td>[3 large plum tomatoes, 2 large red bell peppe...</td>\n",
       "      <td>132025.0</td>\n",
       "    </tr>\n",
       "    <tr>\n",
       "      <th>8062</th>\n",
       "      <td>[Preheat oven to 500°F., Bring a 6- to 8-quart...</td>\n",
       "      <td>24.0</td>\n",
       "      <td>2004-08-20 04:00:00+00:00</td>\n",
       "      <td>[Herb, Bake, Bacon, Oyster, Leek, Spinach, Fal...</td>\n",
       "      <td>443.0</td>\n",
       "      <td>Stitt likes to use rock salt — the kind used f...</td>\n",
       "      <td>29.0</td>\n",
       "      <td>0.000</td>\n",
       "      <td>Baked Oysters with Bacon</td>\n",
       "      <td>[1/4 cup kosher salt, 2 (10-ounce) bags fresh ...</td>\n",
       "      <td>116178.0</td>\n",
       "    </tr>\n",
       "    <tr>\n",
       "      <th>426</th>\n",
       "      <td>[Position rack in center of oven; preheat to 4...</td>\n",
       "      <td>38.0</td>\n",
       "      <td>2007-12-03 20:37:19+00:00</td>\n",
       "      <td>[Fish, Roast, Low Cal, Dinner, Seafood, Salmon...</td>\n",
       "      <td>553.0</td>\n",
       "      <td>Oven-roasting whole fish marries ease of prepa...</td>\n",
       "      <td>48.0</td>\n",
       "      <td>5.000</td>\n",
       "      <td>Whole Fish Baked in Sea Salt</td>\n",
       "      <td>[2 tablespoons coriander seeds, 1 tablespoon b...</td>\n",
       "      <td>97225.0</td>\n",
       "    </tr>\n",
       "    <tr>\n",
       "      <th>8850</th>\n",
       "      <td>[Preheat oven to 350°F., Toast bread crumbs on...</td>\n",
       "      <td>13.0</td>\n",
       "      <td>2004-08-20 04:00:00+00:00</td>\n",
       "      <td>[Milk/Cream, Mushroom, Shellfish, Appetizer, B...</td>\n",
       "      <td>190.0</td>\n",
       "      <td>Coquilles St.-Jacques</td>\n",
       "      <td>9.0</td>\n",
       "      <td>4.375</td>\n",
       "      <td>Scallops with Mushrooms in White-Wine Sauce</td>\n",
       "      <td>[1/4 cup coarse fresh bread crumbs from a bagu...</td>\n",
       "      <td>90572.0</td>\n",
       "    </tr>\n",
       "    <tr>\n",
       "      <th>8394</th>\n",
       "      <td>[Prepare grill., Shuck corn, reserving largest...</td>\n",
       "      <td>99.0</td>\n",
       "      <td>2004-08-20 04:00:00+00:00</td>\n",
       "      <td>[Fish, Garlic, Herb, Backyard BBQ, Salmon, Cor...</td>\n",
       "      <td>1210.0</td>\n",
       "      <td>None</td>\n",
       "      <td>43.0</td>\n",
       "      <td>3.750</td>\n",
       "      <td>Grilled Salmon in Corn Husks</td>\n",
       "      <td>[2 large ears corn, unshucked, 1 stick (1/2 cu...</td>\n",
       "      <td>67909.0</td>\n",
       "    </tr>\n",
       "    <tr>\n",
       "      <th>5870</th>\n",
       "      <td>[Preheat oven to 250°F. and line a large bakin...</td>\n",
       "      <td>37.0</td>\n",
       "      <td>2004-08-20 04:00:00+00:00</td>\n",
       "      <td>[Onion, Side, Fry, Super Bowl, Spice, Hot Pepp...</td>\n",
       "      <td>714.0</td>\n",
       "      <td>None</td>\n",
       "      <td>45.0</td>\n",
       "      <td>3.750</td>\n",
       "      <td>Chipotle Fried Onion Rings</td>\n",
       "      <td>[1 medium white onion, corn oil for deep-fryin...</td>\n",
       "      <td>67884.0</td>\n",
       "    </tr>\n",
       "    <tr>\n",
       "      <th>1154</th>\n",
       "      <td>[Cook bacon in a 2- to 3-quart heavy saucepan ...</td>\n",
       "      <td>128.0</td>\n",
       "      <td>2004-08-20 04:00:00+00:00</td>\n",
       "      <td>[Soup/Stew, Potato, Shellfish, Tomato, Sauté, ...</td>\n",
       "      <td>9811.0</td>\n",
       "      <td>Treat yourself to fresh clams for this recipe ...</td>\n",
       "      <td>1625.0</td>\n",
       "      <td>4.375</td>\n",
       "      <td>Manhattan Clam Chowder</td>\n",
       "      <td>[2 bacon slices, cut into 1/2-inch squares, 1/...</td>\n",
       "      <td>67615.0</td>\n",
       "    </tr>\n",
       "    <tr>\n",
       "      <th>12303</th>\n",
       "      <td>[Place a rack in the center of oven and prehea...</td>\n",
       "      <td>74.0</td>\n",
       "      <td>2014-12-02 04:00:00+00:00</td>\n",
       "      <td>[Christmas, Dinner, Salmon, Bon Appétit, Sugar...</td>\n",
       "      <td>1234.0</td>\n",
       "      <td>It can be hard to gauge what's happening under...</td>\n",
       "      <td>131.0</td>\n",
       "      <td>3.750</td>\n",
       "      <td>Salt-Baked Salmon with Citrus and Herbs</td>\n",
       "      <td>[1 5–6 pound head-and tail-on salmon or arctic...</td>\n",
       "      <td>67253.0</td>\n",
       "    </tr>\n",
       "    <tr>\n",
       "      <th>9859</th>\n",
       "      <td>[Stir 3 gallons water and salt in large pot un...</td>\n",
       "      <td>60.0</td>\n",
       "      <td>2004-11-04 15:38:44+00:00</td>\n",
       "      <td>[Herb, turkey, Roast, Thanksgiving, Pear, Fall...</td>\n",
       "      <td>1291.0</td>\n",
       "      <td>None</td>\n",
       "      <td>163.0</td>\n",
       "      <td>3.750</td>\n",
       "      <td>Herb-Brined Turkey with Pear Gravy</td>\n",
       "      <td>[3 gallons water, 1 3-pound box coarse kosher ...</td>\n",
       "      <td>66833.0</td>\n",
       "    </tr>\n",
       "  </tbody>\n",
       "</table>\n",
       "</div>"
      ],
      "text/plain": [
       "                                              directions    fat  \\\n",
       "2577   [Preheat oven to 400°F. Stir salt and 5 egg wh...   20.0   \n",
       "11966  [Preheat oven to 400°F. Toss tomatoes, bell pe...   20.0   \n",
       "8062   [Preheat oven to 500°F., Bring a 6- to 8-quart...   24.0   \n",
       "426    [Position rack in center of oven; preheat to 4...   38.0   \n",
       "8850   [Preheat oven to 350°F., Toast bread crumbs on...   13.0   \n",
       "8394   [Prepare grill., Shuck corn, reserving largest...   99.0   \n",
       "5870   [Preheat oven to 250°F. and line a large bakin...   37.0   \n",
       "1154   [Cook bacon in a 2- to 3-quart heavy saucepan ...  128.0   \n",
       "12303  [Place a rack in the center of oven and prehea...   74.0   \n",
       "9859   [Stir 3 gallons water and salt in large pot un...   60.0   \n",
       "\n",
       "                           date  \\\n",
       "2577  2007-01-18 04:46:01+00:00   \n",
       "11966 2004-08-20 04:00:00+00:00   \n",
       "8062  2004-08-20 04:00:00+00:00   \n",
       "426   2007-12-03 20:37:19+00:00   \n",
       "8850  2004-08-20 04:00:00+00:00   \n",
       "8394  2004-08-20 04:00:00+00:00   \n",
       "5870  2004-08-20 04:00:00+00:00   \n",
       "1154  2004-08-20 04:00:00+00:00   \n",
       "12303 2014-12-02 04:00:00+00:00   \n",
       "9859  2004-11-04 15:38:44+00:00   \n",
       "\n",
       "                                              categories  calories  \\\n",
       "2577   [Salad, Egg, Fish, Olive, Bake, Roast, Bass, C...     417.0   \n",
       "11966  [Fish, Pepper, Tomato, Appetizer, Bake, Christ...     425.0   \n",
       "8062   [Herb, Bake, Bacon, Oyster, Leek, Spinach, Fal...     443.0   \n",
       "426    [Fish, Roast, Low Cal, Dinner, Seafood, Salmon...     553.0   \n",
       "8850   [Milk/Cream, Mushroom, Shellfish, Appetizer, B...     190.0   \n",
       "8394   [Fish, Garlic, Herb, Backyard BBQ, Salmon, Cor...    1210.0   \n",
       "5870   [Onion, Side, Fry, Super Bowl, Spice, Hot Pepp...     714.0   \n",
       "1154   [Soup/Stew, Potato, Shellfish, Tomato, Sauté, ...    9811.0   \n",
       "12303  [Christmas, Dinner, Salmon, Bon Appétit, Sugar...    1234.0   \n",
       "9859   [Herb, turkey, Roast, Thanksgiving, Pear, Fall...    1291.0   \n",
       "\n",
       "                                                    desc  protein  rating  \\\n",
       "2577   Roasting the fish in salt makes it very moist ...     53.0   5.000   \n",
       "11966  The salt creates a seal around the fish, which...     49.0   4.375   \n",
       "8062   Stitt likes to use rock salt — the kind used f...     29.0   0.000   \n",
       "426    Oven-roasting whole fish marries ease of prepa...     48.0   5.000   \n",
       "8850                               Coquilles St.-Jacques      9.0   4.375   \n",
       "8394                                                None     43.0   3.750   \n",
       "5870                                                None     45.0   3.750   \n",
       "1154   Treat yourself to fresh clams for this recipe ...   1625.0   4.375   \n",
       "12303  It can be hard to gauge what's happening under...    131.0   3.750   \n",
       "9859                                                None    163.0   3.750   \n",
       "\n",
       "                                               title  \\\n",
       "2577                 Whole Branzino Roasted in Salt    \n",
       "11966  Red Snapper Baked in Salt with Romesco Sauce    \n",
       "8062                       Baked Oysters with Bacon    \n",
       "426                    Whole Fish Baked in Sea Salt    \n",
       "8850    Scallops with Mushrooms in White-Wine Sauce    \n",
       "8394                   Grilled Salmon in Corn Husks    \n",
       "5870                     Chipotle Fried Onion Rings    \n",
       "1154                         Manhattan Clam Chowder    \n",
       "12303       Salt-Baked Salmon with Citrus and Herbs    \n",
       "9859             Herb-Brined Turkey with Pear Gravy    \n",
       "\n",
       "                                             ingredients    sodium  \n",
       "2577   [1 3-pound box coarse kosher salt, 5 (or more)...  132220.0  \n",
       "11966  [3 large plum tomatoes, 2 large red bell peppe...  132025.0  \n",
       "8062   [1/4 cup kosher salt, 2 (10-ounce) bags fresh ...  116178.0  \n",
       "426    [2 tablespoons coriander seeds, 1 tablespoon b...   97225.0  \n",
       "8850   [1/4 cup coarse fresh bread crumbs from a bagu...   90572.0  \n",
       "8394   [2 large ears corn, unshucked, 1 stick (1/2 cu...   67909.0  \n",
       "5870   [1 medium white onion, corn oil for deep-fryin...   67884.0  \n",
       "1154   [2 bacon slices, cut into 1/2-inch squares, 1/...   67615.0  \n",
       "12303  [1 5–6 pound head-and tail-on salmon or arctic...   67253.0  \n",
       "9859   [3 gallons water, 1 3-pound box coarse kosher ...   66833.0  "
      ]
     },
     "execution_count": 27,
     "metadata": {},
     "output_type": "execute_result"
    }
   ],
   "source": [
    "db4.sort_values(by=['sodium'],ascending=False).head(10)"
   ]
  },
  {
   "cell_type": "code",
   "execution_count": 28,
   "metadata": {},
   "outputs": [
    {
     "data": {
      "text/html": [
       "<div>\n",
       "<style scoped>\n",
       "    .dataframe tbody tr th:only-of-type {\n",
       "        vertical-align: middle;\n",
       "    }\n",
       "\n",
       "    .dataframe tbody tr th {\n",
       "        vertical-align: top;\n",
       "    }\n",
       "\n",
       "    .dataframe thead th {\n",
       "        text-align: right;\n",
       "    }\n",
       "</style>\n",
       "<table border=\"1\" class=\"dataframe\">\n",
       "  <thead>\n",
       "    <tr style=\"text-align: right;\">\n",
       "      <th></th>\n",
       "      <th>fat</th>\n",
       "      <th>calories</th>\n",
       "      <th>protein</th>\n",
       "      <th>rating</th>\n",
       "      <th>sodium</th>\n",
       "    </tr>\n",
       "  </thead>\n",
       "  <tbody>\n",
       "    <tr>\n",
       "      <th>count</th>\n",
       "      <td>14469.00</td>\n",
       "      <td>14469.00</td>\n",
       "      <td>14469.00</td>\n",
       "      <td>14463.00</td>\n",
       "      <td>14468.00</td>\n",
       "    </tr>\n",
       "    <tr>\n",
       "      <th>mean</th>\n",
       "      <td>29.48</td>\n",
       "      <td>516.80</td>\n",
       "      <td>22.60</td>\n",
       "      <td>3.76</td>\n",
       "      <td>726.83</td>\n",
       "    </tr>\n",
       "    <tr>\n",
       "      <th>std</th>\n",
       "      <td>55.71</td>\n",
       "      <td>865.65</td>\n",
       "      <td>49.57</td>\n",
       "      <td>1.28</td>\n",
       "      <td>3087.42</td>\n",
       "    </tr>\n",
       "    <tr>\n",
       "      <th>min</th>\n",
       "      <td>0.00</td>\n",
       "      <td>0.00</td>\n",
       "      <td>0.00</td>\n",
       "      <td>0.00</td>\n",
       "      <td>0.00</td>\n",
       "    </tr>\n",
       "    <tr>\n",
       "      <th>25%</th>\n",
       "      <td>8.00</td>\n",
       "      <td>206.00</td>\n",
       "      <td>3.00</td>\n",
       "      <td>3.75</td>\n",
       "      <td>89.00</td>\n",
       "    </tr>\n",
       "    <tr>\n",
       "      <th>50%</th>\n",
       "      <td>18.00</td>\n",
       "      <td>346.00</td>\n",
       "      <td>9.00</td>\n",
       "      <td>4.38</td>\n",
       "      <td>306.00</td>\n",
       "    </tr>\n",
       "    <tr>\n",
       "      <th>75%</th>\n",
       "      <td>34.00</td>\n",
       "      <td>600.00</td>\n",
       "      <td>28.00</td>\n",
       "      <td>4.38</td>\n",
       "      <td>733.00</td>\n",
       "    </tr>\n",
       "    <tr>\n",
       "      <th>max</th>\n",
       "      <td>2228.00</td>\n",
       "      <td>54512.00</td>\n",
       "      <td>2074.00</td>\n",
       "      <td>5.00</td>\n",
       "      <td>132220.00</td>\n",
       "    </tr>\n",
       "  </tbody>\n",
       "</table>\n",
       "</div>"
      ],
      "text/plain": [
       "            fat  calories   protein    rating     sodium\n",
       "count  14469.00  14469.00  14469.00  14463.00   14468.00\n",
       "mean      29.48    516.80     22.60      3.76     726.83\n",
       "std       55.71    865.65     49.57      1.28    3087.42\n",
       "min        0.00      0.00      0.00      0.00       0.00\n",
       "25%        8.00    206.00      3.00      3.75      89.00\n",
       "50%       18.00    346.00      9.00      4.38     306.00\n",
       "75%       34.00    600.00     28.00      4.38     733.00\n",
       "max     2228.00  54512.00   2074.00      5.00  132220.00"
      ]
     },
     "execution_count": 28,
     "metadata": {},
     "output_type": "execute_result"
    }
   ],
   "source": [
    "db4.describe().round(2)"
   ]
  },
  {
   "attachments": {},
   "cell_type": "markdown",
   "metadata": {},
   "source": [
    "Histogramas"
   ]
  },
  {
   "cell_type": "code",
   "execution_count": 29,
   "metadata": {},
   "outputs": [
    {
     "data": {
      "text/plain": [
       "<AxesSubplot:xlabel='calories', ylabel='Count'>"
      ]
     },
     "execution_count": 29,
     "metadata": {},
     "output_type": "execute_result"
    },
    {
     "data": {
      "image/png": "[encoded data removed]",
      "text/plain": [
       "<Figure size 432x288 with 1 Axes>"
      ]
     },
     "metadata": {
      "needs_background": "light"
     },
     "output_type": "display_data"
    }
   ],
   "source": [
    "sns.histplot(data=db4,x='calories',kde=True)"
   ]
  },
  {
   "cell_type": "code",
   "execution_count": 30,
   "metadata": {},
   "outputs": [
    {
     "data": {
      "text/plain": [
       "<AxesSubplot:xlabel='sodium', ylabel='Count'>"
      ]
     },
     "execution_count": 30,
     "metadata": {},
     "output_type": "execute_result"
    },
    {
     "data": {
      "image/png": "[encoded data removed]",
      "text/plain": [
       "<Figure size 432x288 with 1 Axes>"
      ]
     },
     "metadata": {
      "needs_background": "light"
     },
     "output_type": "display_data"
    }
   ],
   "source": [
    "sns.histplot(data=db4,x='sodium',kde=True)"
   ]
  },
  {
   "cell_type": "code",
   "execution_count": 31,
   "metadata": {},
   "outputs": [
    {
     "data": {
      "text/plain": [
       "<AxesSubplot:xlabel='protein', ylabel='Count'>"
      ]
     },
     "execution_count": 31,
     "metadata": {},
     "output_type": "execute_result"
    },
    {
     "data": {
      "image/png": "[encoded data removed]",
      "text/plain": [
       "<Figure size 432x288 with 1 Axes>"
      ]
     },
     "metadata": {
      "needs_background": "light"
     },
     "output_type": "display_data"
    }
   ],
   "source": [
    "sns.histplot(data=db4,x='protein',kde=True)"
   ]
  },
  {
   "cell_type": "code",
   "execution_count": 32,
   "metadata": {},
   "outputs": [
    {
     "data": {
      "text/plain": [
       "<AxesSubplot:xlabel='fat', ylabel='Count'>"
      ]
     },
     "execution_count": 32,
     "metadata": {},
     "output_type": "execute_result"
    },
    {
     "data": {
      "image/png": "[encoded data removed]",
      "text/plain": [
       "<Figure size 432x288 with 1 Axes>"
      ]
     },
     "metadata": {
      "needs_background": "light"
     },
     "output_type": "display_data"
    }
   ],
   "source": [
    "sns.histplot(data=db4,x='fat',kde=True)"
   ]
  },
  {
   "cell_type": "code",
   "execution_count": 33,
   "metadata": {},
   "outputs": [
    {
     "data": {
      "text/plain": [
       "<AxesSubplot:xlabel='rating', ylabel='Count'>"
      ]
     },
     "execution_count": 33,
     "metadata": {},
     "output_type": "execute_result"
    },
    {
     "data": {
      "image/png": "[encoded data removed]",
      "text/plain": [
       "<Figure size 432x288 with 1 Axes>"
      ]
     },
     "metadata": {
      "needs_background": "light"
     },
     "output_type": "display_data"
    }
   ],
   "source": [
    "sns.histplot(data=db4,x='rating',kde=True)"
   ]
  },
  {
   "attachments": {},
   "cell_type": "markdown",
   "metadata": {},
   "source": [
    "Se verificamos a kurtosis e a ksewness podemos ver numericamente os graficos acima, <br>\n",
    "Os altos valores de kurtosis confirmam a concentração dos valores mais proximamente a 0, que aos valores mais elevados, o que pode nos indicar que: <br>\n",
    "1: Precisariamos eliminar ainda mais valores máximos<br>\n",
    "2: Ainda existem muitos outliers<br>\n",
    "3: Por serem comidas, não existe necesariamente um padrão em seus valores nutricionais"
   ]
  },
  {
   "cell_type": "code",
   "execution_count": 34,
   "metadata": {},
   "outputs": [
    {
     "name": "stdout",
     "output_type": "stream",
     "text": [
      "Kursotis: 374.6439849496536\n",
      "Skewness: 14.336439471103075\n"
     ]
    }
   ],
   "source": [
    "print('Kursotis:', stats.kurtosis(db4['fat']))\n",
    "print('Skewness:', stats.skew(db4['fat']))"
   ]
  },
  {
   "cell_type": "code",
   "execution_count": 35,
   "metadata": {},
   "outputs": [
    {
     "name": "stdout",
     "output_type": "stream",
     "text": [
      "Kursotis: 1165.2857883668496\n",
      "Skewness: 23.67855746359201\n"
     ]
    }
   ],
   "source": [
    "print('Kursotis:', stats.kurtosis(db4['calories']))\n",
    "print('Skewness:', stats.skew(db4['calories']))"
   ]
  },
  {
   "cell_type": "code",
   "execution_count": 36,
   "metadata": {},
   "outputs": [
    {
     "name": "stdout",
     "output_type": "stream",
     "text": [
      "Kursotis: nan\n",
      "Skewness: nan\n"
     ]
    }
   ],
   "source": [
    "print('Kursotis:', stats.kurtosis(db4['sodium']))\n",
    "print('Skewness:', stats.skew(db4['sodium']))"
   ]
  },
  {
   "cell_type": "code",
   "execution_count": 37,
   "metadata": {},
   "outputs": [
    {
     "name": "stdout",
     "output_type": "stream",
     "text": [
      "Kursotis: 405.9364224539629\n",
      "Skewness: 14.905671525316002\n"
     ]
    }
   ],
   "source": [
    "print('Kursotis:', stats.kurtosis(db4['protein']))\n",
    "print('Skewness:', stats.skew(db4['protein']))"
   ]
  },
  {
   "attachments": {},
   "cell_type": "markdown",
   "metadata": {},
   "source": [
    "## Correlações"
   ]
  },
  {
   "attachments": {},
   "cell_type": "markdown",
   "metadata": {},
   "source": [
    "Podemos comparar a database original, com outliers e nulls e a database com um numero significativo de outliers e nulls retirados<br>\n",
    "<br>\n",
    "Vemos que as relações altamente significativas anteriormente não as mantem mais tao significativas, principalmente quando observamos o Sodium, o que faz bastante sentido lógico, ja que existem muitas comidas que posseem sodio que não tem gordura, por exemplo coca cola zero."
   ]
  },
  {
   "cell_type": "code",
   "execution_count": 38,
   "metadata": {},
   "outputs": [
    {
     "data": {
      "text/html": [
       "<div>\n",
       "<style scoped>\n",
       "    .dataframe tbody tr th:only-of-type {\n",
       "        vertical-align: middle;\n",
       "    }\n",
       "\n",
       "    .dataframe tbody tr th {\n",
       "        vertical-align: top;\n",
       "    }\n",
       "\n",
       "    .dataframe thead th {\n",
       "        text-align: right;\n",
       "    }\n",
       "</style>\n",
       "<table border=\"1\" class=\"dataframe\">\n",
       "  <thead>\n",
       "    <tr style=\"text-align: right;\">\n",
       "      <th></th>\n",
       "      <th>fat</th>\n",
       "      <th>calories</th>\n",
       "      <th>protein</th>\n",
       "      <th>rating</th>\n",
       "      <th>sodium</th>\n",
       "    </tr>\n",
       "  </thead>\n",
       "  <tbody>\n",
       "    <tr>\n",
       "      <th>fat</th>\n",
       "      <td>1.000000</td>\n",
       "      <td>0.996538</td>\n",
       "      <td>0.712194</td>\n",
       "      <td>0.007235</td>\n",
       "      <td>0.986476</td>\n",
       "    </tr>\n",
       "    <tr>\n",
       "      <th>calories</th>\n",
       "      <td>0.996538</td>\n",
       "      <td>1.000000</td>\n",
       "      <td>0.742816</td>\n",
       "      <td>0.007882</td>\n",
       "      <td>0.996392</td>\n",
       "    </tr>\n",
       "    <tr>\n",
       "      <th>protein</th>\n",
       "      <td>0.712194</td>\n",
       "      <td>0.742816</td>\n",
       "      <td>1.000000</td>\n",
       "      <td>0.013972</td>\n",
       "      <td>0.749287</td>\n",
       "    </tr>\n",
       "    <tr>\n",
       "      <th>rating</th>\n",
       "      <td>0.007235</td>\n",
       "      <td>0.007882</td>\n",
       "      <td>0.013972</td>\n",
       "      <td>1.000000</td>\n",
       "      <td>0.008179</td>\n",
       "    </tr>\n",
       "    <tr>\n",
       "      <th>sodium</th>\n",
       "      <td>0.986476</td>\n",
       "      <td>0.996392</td>\n",
       "      <td>0.749287</td>\n",
       "      <td>0.008179</td>\n",
       "      <td>1.000000</td>\n",
       "    </tr>\n",
       "  </tbody>\n",
       "</table>\n",
       "</div>"
      ],
      "text/plain": [
       "               fat  calories   protein    rating    sodium\n",
       "fat       1.000000  0.996538  0.712194  0.007235  0.986476\n",
       "calories  0.996538  1.000000  0.742816  0.007882  0.996392\n",
       "protein   0.712194  0.742816  1.000000  0.013972  0.749287\n",
       "rating    0.007235  0.007882  0.013972  1.000000  0.008179\n",
       "sodium    0.986476  0.996392  0.749287  0.008179  1.000000"
      ]
     },
     "execution_count": 38,
     "metadata": {},
     "output_type": "execute_result"
    }
   ],
   "source": [
    "db.corr()"
   ]
  },
  {
   "cell_type": "code",
   "execution_count": 39,
   "metadata": {},
   "outputs": [
    {
     "data": {
      "text/html": [
       "<div>\n",
       "<style scoped>\n",
       "    .dataframe tbody tr th:only-of-type {\n",
       "        vertical-align: middle;\n",
       "    }\n",
       "\n",
       "    .dataframe tbody tr th {\n",
       "        vertical-align: top;\n",
       "    }\n",
       "\n",
       "    .dataframe thead th {\n",
       "        text-align: right;\n",
       "    }\n",
       "</style>\n",
       "<table border=\"1\" class=\"dataframe\">\n",
       "  <thead>\n",
       "    <tr style=\"text-align: right;\">\n",
       "      <th></th>\n",
       "      <th>fat</th>\n",
       "      <th>calories</th>\n",
       "      <th>protein</th>\n",
       "      <th>rating</th>\n",
       "      <th>sodium</th>\n",
       "    </tr>\n",
       "  </thead>\n",
       "  <tbody>\n",
       "    <tr>\n",
       "      <th>fat</th>\n",
       "      <td>1.000000</td>\n",
       "      <td>0.834070</td>\n",
       "      <td>0.592988</td>\n",
       "      <td>0.071474</td>\n",
       "      <td>0.137198</td>\n",
       "    </tr>\n",
       "    <tr>\n",
       "      <th>calories</th>\n",
       "      <td>0.834070</td>\n",
       "      <td>1.000000</td>\n",
       "      <td>0.753890</td>\n",
       "      <td>0.060171</td>\n",
       "      <td>0.183737</td>\n",
       "    </tr>\n",
       "    <tr>\n",
       "      <th>protein</th>\n",
       "      <td>0.592988</td>\n",
       "      <td>0.753890</td>\n",
       "      <td>1.000000</td>\n",
       "      <td>0.077619</td>\n",
       "      <td>0.315890</td>\n",
       "    </tr>\n",
       "    <tr>\n",
       "      <th>rating</th>\n",
       "      <td>0.071474</td>\n",
       "      <td>0.060171</td>\n",
       "      <td>0.077619</td>\n",
       "      <td>1.000000</td>\n",
       "      <td>0.023270</td>\n",
       "    </tr>\n",
       "    <tr>\n",
       "      <th>sodium</th>\n",
       "      <td>0.137198</td>\n",
       "      <td>0.183737</td>\n",
       "      <td>0.315890</td>\n",
       "      <td>0.023270</td>\n",
       "      <td>1.000000</td>\n",
       "    </tr>\n",
       "  </tbody>\n",
       "</table>\n",
       "</div>"
      ],
      "text/plain": [
       "               fat  calories   protein    rating    sodium\n",
       "fat       1.000000  0.834070  0.592988  0.071474  0.137198\n",
       "calories  0.834070  1.000000  0.753890  0.060171  0.183737\n",
       "protein   0.592988  0.753890  1.000000  0.077619  0.315890\n",
       "rating    0.071474  0.060171  0.077619  1.000000  0.023270\n",
       "sodium    0.137198  0.183737  0.315890  0.023270  1.000000"
      ]
     },
     "execution_count": 39,
     "metadata": {},
     "output_type": "execute_result"
    }
   ],
   "source": [
    "db4.corr()"
   ]
  },
  {
   "cell_type": "code",
   "execution_count": 40,
   "metadata": {},
   "outputs": [],
   "source": [
    "import itertools\n",
    "from sklearn.metrics import confusion_matrix\n",
    "\n",
    "def make_correlation(df, figsize = (20,10), text_size = 8):\n",
    "  \n",
    "  # Creamos matriz de confusion\n",
    "    cm = df.corr().values\n",
    "    n_classes = cm.shape[0]\n",
    "\n",
    "    fig, ax = plt.subplots(figsize = figsize)\n",
    "    cax = ax.matshow(cm, cmap = plt.cm.Blues)\n",
    "\n",
    "    # Establecemos labels para las classes\n",
    "    labels = df.columns\n",
    "\n",
    "    # Label the axes\n",
    "    ax.set(title = \"Correlation Matrix\",\n",
    "            xticks = np.arange(n_classes),\n",
    "            yticks = np.arange(n_classes),\n",
    "            xticklabels = labels, # axes se etiquetarán con nombres de clase (si existen) o enteros\n",
    "            yticklabels = labels)\n",
    "  \n",
    "    # Establecemos x-axis labels to bottom\n",
    "    ax.xaxis.set_label_position(\"bottom\")\n",
    "    ax.xaxis.tick_bottom()\n",
    "\n",
    "    # Ajustas tamaño label\n",
    "    ax.yaxis.label.set_size(text_size)\n",
    "    ax.xaxis.label.set_size(text_size)\n",
    "    ax.title.set_size(text_size)\n",
    "    fig.autofmt_xdate(rotation=70)\n",
    "\n",
    "\n",
    "    # Establecemos threshold para diferentes colores\n",
    "    threshold = (cm.max() + cm.min())/2.\n",
    "\n",
    "    # Dibujamos el texto en cada celda\n",
    "    for i, j in itertools.product(range(cm.shape[0]), range(cm.shape[1])):\n",
    "        plt.text(j, i, f\"{round(cm[i,j], 2)}%\",\n",
    "             horizontalalignment = \"center\",\n",
    "             color = \"white\" if cm[i, j] > threshold else \"black\",\n",
    "             size = text_size)"
   ]
  },
  {
   "cell_type": "code",
   "execution_count": 41,
   "metadata": {},
   "outputs": [
    {
     "data": {
      "text/plain": [
       "fat         float64\n",
       "calories    float64\n",
       "protein     float64\n",
       "rating      float64\n",
       "sodium      float64\n",
       "dtype: object"
      ]
     },
     "execution_count": 41,
     "metadata": {},
     "output_type": "execute_result"
    }
   ],
   "source": [
    "## Retiramos as variaveis str\n",
    "db_correlations = db4.drop(labels=['directions','categories','desc','title','ingredients','date'],axis=1)\n",
    "db_correlations.dtypes"
   ]
  },
  {
   "cell_type": "code",
   "execution_count": 42,
   "metadata": {},
   "outputs": [
    {
     "data": {
      "image/png": "[encoded data removed]",
      "text/plain": [
       "<Figure size 1440x720 with 1 Axes>"
      ]
     },
     "metadata": {
      "needs_background": "light"
     },
     "output_type": "display_data"
    }
   ],
   "source": [
    "make_correlation(db_correlations)"
   ]
  },
  {
   "attachments": {},
   "cell_type": "markdown",
   "metadata": {},
   "source": [
    "Ja que a variavel categories não é proporcionadoda de um jeito funcional, poderíamos modifica-la, para que que a gente possa saber as características das categorías con maiores valores nutricionais <br>\n",
    "<br>\n",
    "A estrategia sería a seguinte: <br>\n",
    "Primeiro identificar todas as características dentro das listas que existem na variavel categories (podemos usar regex,ou split())<br>\n",
    "Depois vamos dividir elas em colunas, nas quais terão valor 0 e 1, sendo 0 que não tem aquela característica o categoria dentro daquele prato, e 1 caso tenha<br>\n",
    "Logo depois disso, poderíamos fazer todas as operações que a gente quisesse, por exemplo, qual categoría tem maior índice de fat, protein, etc."
   ]
  },
  {
   "cell_type": "code",
   "execution_count": 43,
   "metadata": {},
   "outputs": [],
   "source": [
    "#regex pra ler todas as variaveis até  a virgula, e adicionar aquela str numa lista nova.\n",
    "#limpar aquela lista de palavras repetidas\n",
    "#transformar a lista em colunas, com valor 0\n",
    "#fazer um if pra adicionar +1 na coluna se aquela palavra(nome da coluna, por exemplo fish) se encontra na lista do categories daquele registro"
   ]
  }
 ],
 "metadata": {
  "kernelspec": {
   "display_name": "Python 3",
   "language": "python",
   "name": "python3"
  },
  "language_info": {
   "codemirror_mode": {
    "name": "ipython",
    "version": 3
   },
   "file_extension": ".py",
   "mimetype": "text/x-python",
   "name": "python",
   "nbconvert_exporter": "python",
   "pygments_lexer": "ipython3",
   "version": "3.10.5"
  },
  "orig_nbformat": 4,
  "vscode": {
   "interpreter": {
    "hash": "6f52065960efd9c01b2ec1d60a5c4d050f69b3d5f630ae721b9f05d65d21db56"
   }
  }
 },
 "nbformat": 4,
 "nbformat_minor": 2
}
